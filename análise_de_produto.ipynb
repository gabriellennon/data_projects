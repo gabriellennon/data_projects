{
  "nbformat": 4,
  "nbformat_minor": 0,
  "metadata": {
    "colab": {
      "name": "análise_de_produto.ipynb",
      "provenance": [],
      "toc_visible": true,
      "authorship_tag": "ABX9TyNGULEe/NJtDFxP3UqXGm5C",
      "include_colab_link": true
    },
    "kernelspec": {
      "name": "python3",
      "display_name": "Python 3"
    },
    "language_info": {
      "name": "python"
    }
  },
  "cells": [
    {
      "cell_type": "markdown",
      "metadata": {
        "id": "view-in-github",
        "colab_type": "text"
      },
      "source": [
        "<a href=\"https://colab.research.google.com/github/iagoit/data_projects/blob/main/an%C3%A1lise_de_produto.ipynb\" target=\"_parent\"><img src=\"https://colab.research.google.com/assets/colab-badge.svg\" alt=\"Open In Colab\"/></a>"
      ]
    },
    {
      "cell_type": "markdown",
      "metadata": {
        "id": "MqgkLVI7Y_kR"
      },
      "source": [
        "# Análise de Produto\n",
        "\n",
        "- A análise exploratória tem como objetivo apresentar a análise de um produto hipotético. \n"
      ]
    },
    {
      "cell_type": "markdown",
      "metadata": {
        "id": "5XsMbWLtbDQZ"
      },
      "source": [
        "## Pergunta a serem respondidas:\n",
        "\n",
        "- Qual o mês que foi mais utilizado as funcionalidades?\n",
        "\n",
        "- Quais os clientes que possuem mais acessos na plataforma?\n",
        "\n",
        "- Qual é a média de acessos?\n",
        "\n",
        "- Qual as funcionalidades mais utilizadas?\n",
        "\n",
        "- Qual é o segmento com mais clientes?\n",
        "\n",
        "- Qual é o MRR de cada segmento?\n",
        "\n",
        "- Existe algum segmento que possui mais clientes inativos do que ativos?"
      ]
    },
    {
      "cell_type": "code",
      "metadata": {
        "id": "an2WLBlHR-Uy"
      },
      "source": [
        "# importar as bibliotecas necessarias\n",
        "import pandas as pd\n",
        "import matplotlib.pyplot as plt\n",
        "import seaborn as sns"
      ],
      "execution_count": 198,
      "outputs": []
    },
    {
      "cell_type": "code",
      "metadata": {
        "id": "-9BSULC6SE72"
      },
      "source": [
        "# importar os arquivos que serão utilizados\n",
        "df_1 = pd.read_csv(\"daily_product_usage.csv\")\n",
        "df_2 = pd.read_csv(\"customers.csv\")"
      ],
      "execution_count": 199,
      "outputs": []
    },
    {
      "cell_type": "markdown",
      "metadata": {
        "id": "a1SoCry_aTJe"
      },
      "source": [
        "## Análise de dados\n",
        "\n",
        "Agora que ja importamos as bibliotecas necessarias e os arquivos que serão utilizados, é hora de conhecer nosso dataset. Primeiro iremos utilizar a função `head()` para visualizarmos as 5 primeiras entradas."
      ]
    },
    {
      "cell_type": "code",
      "metadata": {
        "colab": {
          "base_uri": "https://localhost:8080/",
          "height": 204
        },
        "id": "KiUlv9_ZVKDM",
        "outputId": "1f880b69-9302-4182-b56e-896c27c52f06"
      },
      "source": [
        "# conhecendo o dataframe daily_product_usage (df_1)\n",
        "df_1.head()"
      ],
      "execution_count": 200,
      "outputs": [
        {
          "output_type": "execute_result",
          "data": {
            "text/html": [
              "<div>\n",
              "<style scoped>\n",
              "    .dataframe tbody tr th:only-of-type {\n",
              "        vertical-align: middle;\n",
              "    }\n",
              "\n",
              "    .dataframe tbody tr th {\n",
              "        vertical-align: top;\n",
              "    }\n",
              "\n",
              "    .dataframe thead th {\n",
              "        text-align: right;\n",
              "    }\n",
              "</style>\n",
              "<table border=\"1\" class=\"dataframe\">\n",
              "  <thead>\n",
              "    <tr style=\"text-align: right;\">\n",
              "      <th></th>\n",
              "      <th>Date</th>\n",
              "      <th>CustomerId</th>\n",
              "      <th>FeatureId</th>\n",
              "      <th>DailyCount</th>\n",
              "    </tr>\n",
              "  </thead>\n",
              "  <tbody>\n",
              "    <tr>\n",
              "      <th>0</th>\n",
              "      <td>2020-10-26</td>\n",
              "      <td>4085</td>\n",
              "      <td>Login</td>\n",
              "      <td>22</td>\n",
              "    </tr>\n",
              "    <tr>\n",
              "      <th>1</th>\n",
              "      <td>2020-11-26</td>\n",
              "      <td>4068</td>\n",
              "      <td>Login</td>\n",
              "      <td>32</td>\n",
              "    </tr>\n",
              "    <tr>\n",
              "      <th>2</th>\n",
              "      <td>2020-10-16</td>\n",
              "      <td>6758</td>\n",
              "      <td>Login</td>\n",
              "      <td>49</td>\n",
              "    </tr>\n",
              "    <tr>\n",
              "      <th>3</th>\n",
              "      <td>2020-01-13</td>\n",
              "      <td>3812</td>\n",
              "      <td>Login</td>\n",
              "      <td>25</td>\n",
              "    </tr>\n",
              "    <tr>\n",
              "      <th>4</th>\n",
              "      <td>2020-03-19</td>\n",
              "      <td>3814</td>\n",
              "      <td>Login</td>\n",
              "      <td>40</td>\n",
              "    </tr>\n",
              "  </tbody>\n",
              "</table>\n",
              "</div>"
            ],
            "text/plain": [
              "         Date  CustomerId FeatureId  DailyCount\n",
              "0  2020-10-26        4085     Login          22\n",
              "1  2020-11-26        4068     Login          32\n",
              "2  2020-10-16        6758     Login          49\n",
              "3  2020-01-13        3812     Login          25\n",
              "4  2020-03-19        3814     Login          40"
            ]
          },
          "metadata": {},
          "execution_count": 200
        }
      ]
    },
    {
      "cell_type": "code",
      "metadata": {
        "colab": {
          "base_uri": "https://localhost:8080/",
          "height": 204
        },
        "id": "La-UWqoLcVpQ",
        "outputId": "70258c33-ce4f-424b-e1de-69a973fd099f"
      },
      "source": [
        "# conhecendo o dataframe customers (df_2)\n",
        "df_2.head()"
      ],
      "execution_count": 201,
      "outputs": [
        {
          "output_type": "execute_result",
          "data": {
            "text/html": [
              "<div>\n",
              "<style scoped>\n",
              "    .dataframe tbody tr th:only-of-type {\n",
              "        vertical-align: middle;\n",
              "    }\n",
              "\n",
              "    .dataframe tbody tr th {\n",
              "        vertical-align: top;\n",
              "    }\n",
              "\n",
              "    .dataframe thead th {\n",
              "        text-align: right;\n",
              "    }\n",
              "</style>\n",
              "<table border=\"1\" class=\"dataframe\">\n",
              "  <thead>\n",
              "    <tr style=\"text-align: right;\">\n",
              "      <th></th>\n",
              "      <th>CustomerId</th>\n",
              "      <th>CustomerSegment</th>\n",
              "      <th>CustomerStatusToday</th>\n",
              "      <th>CustomerMrrRange</th>\n",
              "    </tr>\n",
              "  </thead>\n",
              "  <tbody>\n",
              "    <tr>\n",
              "      <th>0</th>\n",
              "      <td>6134</td>\n",
              "      <td>A</td>\n",
              "      <td>Ativo</td>\n",
              "      <td>Muito alto</td>\n",
              "    </tr>\n",
              "    <tr>\n",
              "      <th>1</th>\n",
              "      <td>1040</td>\n",
              "      <td>A</td>\n",
              "      <td>Ativo</td>\n",
              "      <td>Muito alto</td>\n",
              "    </tr>\n",
              "    <tr>\n",
              "      <th>2</th>\n",
              "      <td>48</td>\n",
              "      <td>A</td>\n",
              "      <td>Ativo</td>\n",
              "      <td>Muito alto</td>\n",
              "    </tr>\n",
              "    <tr>\n",
              "      <th>3</th>\n",
              "      <td>1088</td>\n",
              "      <td>A</td>\n",
              "      <td>Ativo</td>\n",
              "      <td>Muito alto</td>\n",
              "    </tr>\n",
              "    <tr>\n",
              "      <th>4</th>\n",
              "      <td>577</td>\n",
              "      <td>A</td>\n",
              "      <td>Ativo</td>\n",
              "      <td>Muito alto</td>\n",
              "    </tr>\n",
              "  </tbody>\n",
              "</table>\n",
              "</div>"
            ],
            "text/plain": [
              "   CustomerId CustomerSegment CustomerStatusToday CustomerMrrRange\n",
              "0        6134               A               Ativo       Muito alto\n",
              "1        1040               A               Ativo       Muito alto\n",
              "2          48               A               Ativo       Muito alto\n",
              "3        1088               A               Ativo       Muito alto\n",
              "4         577               A               Ativo       Muito alto"
            ]
          },
          "metadata": {},
          "execution_count": 201
        }
      ]
    },
    {
      "cell_type": "markdown",
      "metadata": {
        "id": "7Z8s_fS4N439"
      },
      "source": [
        "## Dicionário de dados\n",
        "\n",
        "`daily_product_usage.csv`:\n",
        "- Date: Data em que o cliente utilizou a funcionalidade. \t\n",
        "- CustomerId: Identificador do cliente. \t\n",
        "- FeatureId: Identificador da funcionalidade. \t\n",
        "- DailyCount: Contagem de usos daquela funcionalidade naquele dia pelo cliente.\n",
        "\n",
        "`customers.csv`:\n",
        "- CustomerId: Identificador do cliente.\n",
        "- CustomerSegment: Segmento de mercado do cliente (A, B, C, etc.). \t\n",
        "- CustomerStatusToday: Status de assinatura do cliente, quando observado hoje. Pode ser Ativo (ainda é um assinante na plataforma), ou Inativo (cancelou a assinatura em algum momento). \n",
        "- CustomerMrrRange: Faixa de MRR (monthly recurring revenue - receita recorrente mensal) do cliente (baixo, médio, alto, etc.)."
      ]
    },
    {
      "cell_type": "markdown",
      "metadata": {
        "id": "yp1eZ6CqNk_b"
      },
      "source": [
        "Agora que já sabemos o conteúdo de cada *dataframe*, precisamos saber qual é o real tamanho de cada um deles."
      ]
    },
    {
      "cell_type": "code",
      "metadata": {
        "colab": {
          "base_uri": "https://localhost:8080/"
        },
        "id": "TnfPQU5WStQo",
        "outputId": "3957b116-6423-436b-995d-8ab190609c15"
      },
      "source": [
        "# quantidade de linhas e colunas\n",
        "print('Qtd Linhas:  ', df_1.shape[0])\n",
        "print('Qtd Colunas: ', df_1.shape[1])"
      ],
      "execution_count": 202,
      "outputs": [
        {
          "output_type": "stream",
          "name": "stdout",
          "text": [
            "Qtd Linhas:   2988239\n",
            "Qtd Colunas:  4\n"
          ]
        }
      ]
    },
    {
      "cell_type": "code",
      "metadata": {
        "colab": {
          "base_uri": "https://localhost:8080/"
        },
        "id": "QDnUEUEwS5uF",
        "outputId": "4011508a-620f-4e82-873b-886fa1b7588e"
      },
      "source": [
        "# quantidade de linhas e colunas\n",
        "print('Qtd Linhas:  ', df_2.shape[0])\n",
        "print('Qtd Colunas: ', df_2.shape[1])"
      ],
      "execution_count": 204,
      "outputs": [
        {
          "output_type": "stream",
          "name": "stdout",
          "text": [
            "Qtd Linhas:   8966\n",
            "Qtd Colunas:  4\n"
          ]
        }
      ]
    },
    {
      "cell_type": "markdown",
      "metadata": {
        "id": "bu1RxLSXsV7G"
      },
      "source": [
        "Agora que temos noção do tamanho de cada *dataframe*, entendemos que os `CustomersId` são os memos de ambos *dataframes*, porém o **daily_usage_product_csv**, tem a coluna data, ou seja, os os id estão se repetindo o que pode gerar valores ausentes ou outliers.\n",
        "\n",
        "Então agora que já temos uma hipótese, vamos verificar mais a fundo os dados. Vejamos se o *dataframe* possui valores ausentes."
      ]
    },
    {
      "cell_type": "code",
      "metadata": {
        "colab": {
          "base_uri": "https://localhost:8080/"
        },
        "id": "Gh9VfZ8ETOH7",
        "outputId": "4a5efd3a-2cbb-4406-c0ee-93f784fe4fa1"
      },
      "source": [
        "# quantidade de valores ausentes no df_1\n",
        "(df_1.isnull().sum() / df_1.shape[0]).sort_values(ascending = False)"
      ],
      "execution_count": 205,
      "outputs": [
        {
          "output_type": "execute_result",
          "data": {
            "text/plain": [
              "DailyCount    0.0\n",
              "FeatureId     0.0\n",
              "CustomerId    0.0\n",
              "Date          0.0\n",
              "dtype: float64"
            ]
          },
          "metadata": {},
          "execution_count": 205
        }
      ]
    },
    {
      "cell_type": "code",
      "metadata": {
        "colab": {
          "base_uri": "https://localhost:8080/"
        },
        "id": "hFFspxz2TU_h",
        "outputId": "f282cff9-7a65-4c50-f31c-e64f31d5e34f"
      },
      "source": [
        "# quantidade de valores ausentes no df_2\n",
        "(df_2.isnull().sum() / df_2.shape[0]).sort_values(ascending = False)"
      ],
      "execution_count": 206,
      "outputs": [
        {
          "output_type": "execute_result",
          "data": {
            "text/plain": [
              "CustomerMrrRange       0.032121\n",
              "CustomerStatusToday    0.000000\n",
              "CustomerSegment        0.000000\n",
              "CustomerId             0.000000\n",
              "dtype: float64"
            ]
          },
          "metadata": {},
          "execution_count": 206
        }
      ]
    },
    {
      "cell_type": "markdown",
      "metadata": {
        "id": "MhfKgecgtPMY"
      },
      "source": [
        "Conseguimos identificar que o *dataframe* de **customers** possui 3% de valor ausente na váriavel CustomerMrrRange, o que não é tão relevante a ponto de afetar os dados, mas caso fosse necessário poderiamos utilizar o `median()`, para substituir os valores ausentes.\n",
        "\n",
        "Agora precisamos verificar os tipos de cada coluna."
      ]
    },
    {
      "cell_type": "code",
      "metadata": {
        "colab": {
          "base_uri": "https://localhost:8080/"
        },
        "id": "dkQlcRYsRtNP",
        "outputId": "e6583fa8-c4f7-4862-e54c-1c7db70e3f45"
      },
      "source": [
        "# verifica os tipos de cada variável do df_1\n",
        "df_1.dtypes"
      ],
      "execution_count": 207,
      "outputs": [
        {
          "output_type": "execute_result",
          "data": {
            "text/plain": [
              "Date          object\n",
              "CustomerId     int64\n",
              "FeatureId     object\n",
              "DailyCount     int64\n",
              "dtype: object"
            ]
          },
          "metadata": {},
          "execution_count": 207
        }
      ]
    },
    {
      "cell_type": "code",
      "metadata": {
        "colab": {
          "base_uri": "https://localhost:8080/"
        },
        "id": "EgnfnIR4R46A",
        "outputId": "962b1fd3-568a-495c-f035-7413640fcc4b"
      },
      "source": [
        "# verifica os tipos de cada variável do df_2\n",
        "df_2.dtypes"
      ],
      "execution_count": 209,
      "outputs": [
        {
          "output_type": "execute_result",
          "data": {
            "text/plain": [
              "CustomerId              int64\n",
              "CustomerSegment        object\n",
              "CustomerStatusToday    object\n",
              "CustomerMrrRange       object\n",
              "dtype: object"
            ]
          },
          "metadata": {},
          "execution_count": 209
        }
      ]
    },
    {
      "cell_type": "markdown",
      "metadata": {
        "id": "M7WZvvI-uZ3S"
      },
      "source": [
        "Identificamos que a coluna `Date` está como tipo objeto quando na verdade ela é do tipo DateTime. Então precismos transforma-la para conseguir utiliza-la da melhor forma."
      ]
    },
    {
      "cell_type": "code",
      "metadata": {
        "id": "S1uszXb6kydz"
      },
      "source": [
        "# transformar a coluna Data de objeto para datetime\n",
        "df_1.Date = pd.to_datetime(df_1.Date)"
      ],
      "execution_count": 208,
      "outputs": []
    },
    {
      "cell_type": "markdown",
      "metadata": {
        "id": "2RGE-Ff0vHMn"
      },
      "source": [
        "Agora que temos nossa data com o tipo correto é hora de verificar como estão as datas dentro do *dataframe*."
      ]
    },
    {
      "cell_type": "code",
      "metadata": {
        "colab": {
          "base_uri": "https://localhost:8080/"
        },
        "id": "QR0Xoevvn8Zd",
        "outputId": "fe1d10aa-393d-4440-89eb-988b126e6b7a"
      },
      "source": [
        "# verifica qual a data minima do dataset\n",
        "df_1.Date.min()"
      ],
      "execution_count": 210,
      "outputs": [
        {
          "output_type": "execute_result",
          "data": {
            "text/plain": [
              "Timestamp('2020-01-01 00:00:00')"
            ]
          },
          "metadata": {},
          "execution_count": 210
        }
      ]
    },
    {
      "cell_type": "code",
      "metadata": {
        "colab": {
          "base_uri": "https://localhost:8080/"
        },
        "id": "sXHboxqnoAhN",
        "outputId": "d1361472-36ea-4aa1-d0c5-b179c3544d98"
      },
      "source": [
        "# verifica qual a data maxima do dataset\n",
        "df_1.Date.max()"
      ],
      "execution_count": 211,
      "outputs": [
        {
          "output_type": "execute_result",
          "data": {
            "text/plain": [
              "Timestamp('2020-12-31 00:00:00')"
            ]
          },
          "metadata": {},
          "execution_count": 211
        }
      ]
    },
    {
      "cell_type": "markdown",
      "metadata": {
        "id": "l_USLJw-va1Q"
      },
      "source": [
        "Conseguimos identificar que é um *dataframe* que se trata apenas do ano de 2020. Agora iremos adicionar a coluna de ano e mês no *dataframe*."
      ]
    },
    {
      "cell_type": "code",
      "metadata": {
        "colab": {
          "base_uri": "https://localhost:8080/",
          "height": 204
        },
        "id": "JwC6GILULP8u",
        "outputId": "734e7a6a-37fd-43f6-bcc1-9ff2b84f477c"
      },
      "source": [
        "# criando coluna de ano e mês\n",
        "df_1['Year'] = df_1['Date'].dt.year\n",
        "df_1['Month'] = df_1['Date'].dt.month\n",
        "df_1.head()"
      ],
      "execution_count": 213,
      "outputs": [
        {
          "output_type": "execute_result",
          "data": {
            "text/html": [
              "<div>\n",
              "<style scoped>\n",
              "    .dataframe tbody tr th:only-of-type {\n",
              "        vertical-align: middle;\n",
              "    }\n",
              "\n",
              "    .dataframe tbody tr th {\n",
              "        vertical-align: top;\n",
              "    }\n",
              "\n",
              "    .dataframe thead th {\n",
              "        text-align: right;\n",
              "    }\n",
              "</style>\n",
              "<table border=\"1\" class=\"dataframe\">\n",
              "  <thead>\n",
              "    <tr style=\"text-align: right;\">\n",
              "      <th></th>\n",
              "      <th>Date</th>\n",
              "      <th>CustomerId</th>\n",
              "      <th>FeatureId</th>\n",
              "      <th>DailyCount</th>\n",
              "      <th>Year</th>\n",
              "      <th>Month</th>\n",
              "    </tr>\n",
              "  </thead>\n",
              "  <tbody>\n",
              "    <tr>\n",
              "      <th>0</th>\n",
              "      <td>2020-10-26</td>\n",
              "      <td>4085</td>\n",
              "      <td>Login</td>\n",
              "      <td>22</td>\n",
              "      <td>2020</td>\n",
              "      <td>10</td>\n",
              "    </tr>\n",
              "    <tr>\n",
              "      <th>1</th>\n",
              "      <td>2020-11-26</td>\n",
              "      <td>4068</td>\n",
              "      <td>Login</td>\n",
              "      <td>32</td>\n",
              "      <td>2020</td>\n",
              "      <td>11</td>\n",
              "    </tr>\n",
              "    <tr>\n",
              "      <th>2</th>\n",
              "      <td>2020-10-16</td>\n",
              "      <td>6758</td>\n",
              "      <td>Login</td>\n",
              "      <td>49</td>\n",
              "      <td>2020</td>\n",
              "      <td>10</td>\n",
              "    </tr>\n",
              "    <tr>\n",
              "      <th>3</th>\n",
              "      <td>2020-01-13</td>\n",
              "      <td>3812</td>\n",
              "      <td>Login</td>\n",
              "      <td>25</td>\n",
              "      <td>2020</td>\n",
              "      <td>1</td>\n",
              "    </tr>\n",
              "    <tr>\n",
              "      <th>4</th>\n",
              "      <td>2020-03-19</td>\n",
              "      <td>3814</td>\n",
              "      <td>Login</td>\n",
              "      <td>40</td>\n",
              "      <td>2020</td>\n",
              "      <td>3</td>\n",
              "    </tr>\n",
              "  </tbody>\n",
              "</table>\n",
              "</div>"
            ],
            "text/plain": [
              "        Date  CustomerId FeatureId  DailyCount  Year  Month\n",
              "0 2020-10-26        4085     Login          22  2020     10\n",
              "1 2020-11-26        4068     Login          32  2020     11\n",
              "2 2020-10-16        6758     Login          49  2020     10\n",
              "3 2020-01-13        3812     Login          25  2020      1\n",
              "4 2020-03-19        3814     Login          40  2020      3"
            ]
          },
          "metadata": {},
          "execution_count": 213
        }
      ]
    },
    {
      "cell_type": "markdown",
      "metadata": {
        "id": "6XY8gPihvk2r"
      },
      "source": [
        "Agora com as colunas já adicionadas podemos fazer analises anuais e mensais, caso fosse necessário poderiamos adicionar colunas para semana e dias da semana para uma análise mais profunda.\n",
        "\n",
        "Agora é hora de responder as perguntas que foram levantadas no começo das análises."
      ]
    },
    {
      "cell_type": "markdown",
      "metadata": {
        "id": "OxIe12EWwSuP"
      },
      "source": [
        "### Q1. Qual o mês que foi mais utilizado as funcionalidades?"
      ]
    },
    {
      "cell_type": "code",
      "metadata": {
        "colab": {
          "base_uri": "https://localhost:8080/",
          "height": 369
        },
        "id": "w-eAhrU4LsVZ",
        "outputId": "40e24d46-ac80-467c-8afb-471564ec64b9"
      },
      "source": [
        "# copiando o dataset original e criando um novo index\n",
        "acessos = df.copy()\n",
        "acessos.set_index('FeatureId', inplace = True)\n",
        "acessos = acessos.reset_index()\n",
        "\n",
        "# criando a figura do matplotlib\n",
        "fig, ax = plt.subplots(figsize=(20, 5))\n",
        "\n",
        "# plotando gráfico de linhas\n",
        "ax = sns.lineplot(x='Date', y='DailyCount', hue='FeatureId', data=acessos, palette='husl');\n",
        "plt.tight_layout()"
      ],
      "execution_count": 226,
      "outputs": [
        {
          "output_type": "display_data",
          "data": {
            "image/png": "[encoded data removed]",
            "text/plain": [
              "<Figure size 1440x360 with 1 Axes>"
            ]
          },
          "metadata": {
            "needs_background": "light"
          }
        }
      ]
    },
    {
      "cell_type": "markdown",
      "metadata": {
        "id": "vcleF7EhwkHt"
      },
      "source": [
        "### Q2. Quais os clientes que possuem mais acessos na plataforma?"
      ]
    },
    {
      "cell_type": "code",
      "metadata": {
        "colab": {
          "base_uri": "https://localhost:8080/"
        },
        "id": "lrLi4UK9EG1E",
        "outputId": "02a975bf-43f7-4908-e9b7-cb1413ef938b"
      },
      "source": [
        "#verificar os 10 clientes com mais acesso na plataforma\n",
        "print(df_1.CustomerId.value_counts()[0:10])"
      ],
      "execution_count": 168,
      "outputs": [
        {
          "output_type": "stream",
          "name": "stdout",
          "text": [
            "1830    2167\n",
            "6014    1988\n",
            "1819    1966\n",
            "6257    1923\n",
            "4821    1890\n",
            "1040    1878\n",
            "3814    1877\n",
            "13      1811\n",
            "7681    1791\n",
            "3563    1786\n",
            "Name: CustomerId, dtype: int64\n"
          ]
        }
      ]
    },
    {
      "cell_type": "markdown",
      "metadata": {
        "id": "2aooQ5AOxV27"
      },
      "source": [
        "Conseguimos identificar os 10 clientes com mais acessos na plataforma, o que seria possível fazer, era segmentar cada um desses clientes."
      ]
    },
    {
      "cell_type": "markdown",
      "metadata": {
        "id": "u3fYcVLbwpIS"
      },
      "source": [
        "### Q3. Qual é a média de acessos?"
      ]
    },
    {
      "cell_type": "code",
      "metadata": {
        "colab": {
          "base_uri": "https://localhost:8080/"
        },
        "id": "pkGuDDqKu9Fy",
        "outputId": "eb98c367-a6b7-4d6c-a906-832ca45ccdeb"
      },
      "source": [
        "# verifica a média de acessos\n",
        "df_1.DailyCount.mean()"
      ],
      "execution_count": 117,
      "outputs": [
        {
          "output_type": "execute_result",
          "data": {
            "text/plain": [
              "7.056723374535973"
            ]
          },
          "metadata": {},
          "execution_count": 117
        }
      ]
    },
    {
      "cell_type": "markdown",
      "metadata": {
        "id": "ToW7wdtvxp7U"
      },
      "source": [
        "Como identificamos, a média de acessos diários são 7, porém tem cliente que não possui acesso ou possui 1 acesso diário o que acaba impactando nos demais."
      ]
    },
    {
      "cell_type": "markdown",
      "metadata": {
        "id": "n5EguGb4wumj"
      },
      "source": [
        "### Q4. Qual as funcionalidades mais utilizadas?"
      ]
    },
    {
      "cell_type": "code",
      "metadata": {
        "colab": {
          "base_uri": "https://localhost:8080/"
        },
        "id": "Ygv_97uA7eM4",
        "outputId": "11106f24-f554-4347-b444-940538fc31fc"
      },
      "source": [
        "# verifica qual a funcionalidade mais utilizada\n",
        "df_1.FeatureId.value_counts()"
      ],
      "execution_count": 160,
      "outputs": [
        {
          "output_type": "execute_result",
          "data": {
            "text/plain": [
              "Login                        986747\n",
              "Funcionalidade 1 - Acesso    942094\n",
              "Funcionalidade 1 - Ação A    557556\n",
              "Funcionalidade 1 - Ação B    125455\n",
              "Funcionalidade 1 - Ação D    124722\n",
              "Funcionalidade 1 - Ação C     91240\n",
              "Funcionalidade 3 - Acesso     47872\n",
              "Funcionalidade 2 - Acesso     45250\n",
              "Funcionalidade 3 - Ação       37898\n",
              "Funcionalidade 2 - Ação       29405\n",
              "Name: FeatureId, dtype: int64"
            ]
          },
          "metadata": {},
          "execution_count": 160
        }
      ]
    },
    {
      "cell_type": "markdown",
      "metadata": {
        "id": "az4j5U5tx6qN"
      },
      "source": [
        "Se tratando de funcionalidades, as mais utilizadas são: Funcionalidade 1 (Ação A), Funcionalidade 1 (Ação B), Funcionalidade 1 (Ação D), Funcionalidade 1 (Ação C), Funcionalidade 3 (Ação) e Funcionalidade 2 (Ação). "
      ]
    },
    {
      "cell_type": "markdown",
      "metadata": {
        "id": "GKj-Fhu0wzi5"
      },
      "source": [
        "### Q5. Qual é o segmento com mais clientes?"
      ]
    },
    {
      "cell_type": "code",
      "metadata": {
        "colab": {
          "base_uri": "https://localhost:8080/"
        },
        "id": "heWZ0ISo1T86",
        "outputId": "7ce75038-4118-4c26-9e07-bee589f2bf25"
      },
      "source": [
        "# verifica qual o segmento possui mais clientes\n",
        "df_2.CustomerSegment.value_counts()"
      ],
      "execution_count": 125,
      "outputs": [
        {
          "output_type": "execute_result",
          "data": {
            "text/plain": [
              "D         5101\n",
              "E         1759\n",
              "C         1699\n",
              "B          336\n",
              "A           50\n",
              "Outros      21\n",
              "Name: CustomerSegment, dtype: int64"
            ]
          },
          "metadata": {},
          "execution_count": 125
        }
      ]
    },
    {
      "cell_type": "markdown",
      "metadata": {
        "id": "iN2tk02-yOtJ"
      },
      "source": [
        "Conseguimos identificar que o segmento que possui mais clientes é o segmento D, o que possibilita uma escala muito alta de clientes."
      ]
    },
    {
      "cell_type": "markdown",
      "metadata": {
        "id": "KHo0svCGw3Hu"
      },
      "source": [
        "### Q6. Qual é o MRR de cada segmento?"
      ]
    },
    {
      "cell_type": "code",
      "metadata": {
        "colab": {
          "base_uri": "https://localhost:8080/"
        },
        "id": "L86p-0Qm9_ZI",
        "outputId": "efbb0044-22f2-4cd0-b32c-205cebb8c0cd"
      },
      "source": [
        "# verifica a quantidade de MRR de cada segmento\n",
        "df_2.groupby(['CustomerSegment']).CustomerMrrRange.value_counts()"
      ],
      "execution_count": 162,
      "outputs": [
        {
          "output_type": "execute_result",
          "data": {
            "text/plain": [
              "CustomerSegment  CustomerMrrRange\n",
              "A                Muito alto            46\n",
              "                 Alto                   2\n",
              "                 Médio                  2\n",
              "B                Alto                 182\n",
              "                 Médio                 98\n",
              "                 Muito alto            40\n",
              "                 Baixo                 10\n",
              "                 Muito baixo            6\n",
              "C                Médio                995\n",
              "                 Baixo                359\n",
              "                 Alto                 197\n",
              "                 Muito baixo           74\n",
              "                 Muito alto            14\n",
              "D                Baixo               1983\n",
              "                 Muito baixo         1845\n",
              "                 Médio               1032\n",
              "                 Alto                 162\n",
              "                 Muito alto             3\n",
              "E                Muito baixo          828\n",
              "                 Baixo                494\n",
              "                 Médio                255\n",
              "                 Alto                  32\n",
              "Outros           Médio                  9\n",
              "                 Baixo                  6\n",
              "                 Alto                   3\n",
              "                 Muito baixo            1\n",
              "Name: CustomerMrrRange, dtype: int64"
            ]
          },
          "metadata": {},
          "execution_count": 162
        }
      ]
    },
    {
      "cell_type": "markdown",
      "metadata": {
        "id": "c9CLe3h-ymfQ"
      },
      "source": [
        "Agora sabemos quantos clientes possuimos em cada segmento de acordo com o MRR, sendo os melhores segmentos para segmentação de público o D, C e E."
      ]
    },
    {
      "cell_type": "markdown",
      "metadata": {
        "id": "AFWH-jsqw6ur"
      },
      "source": [
        "### Q7. Existe algum segmento que possui mais clientes inativos do que ativos?"
      ]
    },
    {
      "cell_type": "code",
      "metadata": {
        "colab": {
          "base_uri": "https://localhost:8080/"
        },
        "id": "6V0b8hdj7FlI",
        "outputId": "a9571dc9-5c90-47e9-99b3-babe5113af64"
      },
      "source": [
        "# verifica o status de cliente de cada segmento\n",
        "df_2.groupby(['CustomerSegment']).CustomerStatusToday.value_counts()"
      ],
      "execution_count": 225,
      "outputs": [
        {
          "output_type": "execute_result",
          "data": {
            "text/plain": [
              "CustomerSegment  CustomerStatusToday\n",
              "A                Ativo                    43\n",
              "                 Inativo                   7\n",
              "B                Ativo                   291\n",
              "                 Inativo                  45\n",
              "C                Ativo                   980\n",
              "                 Inativo                 719\n",
              "D                Ativo                  3919\n",
              "                 Inativo                1182\n",
              "E                Ativo                  1204\n",
              "                 Inativo                 555\n",
              "Outros           Ativo                    11\n",
              "                 Inativo                  10\n",
              "Name: CustomerStatusToday, dtype: int64"
            ]
          },
          "metadata": {},
          "execution_count": 225
        }
      ]
    },
    {
      "cell_type": "markdown",
      "metadata": {
        "id": "aeW9Biv_y-2u"
      },
      "source": [
        "Nenhum segmento possui mais inativos do que ativos."
      ]
    },
    {
      "cell_type": "markdown",
      "metadata": {
        "id": "KHq_GL_mut5L"
      },
      "source": [
        "## Conclusão\n",
        "\n",
        "- Bases de dados bem trabalhosas, mesmo tendo poucas variáveis dificulta a extração de insights.\n",
        "\n",
        "- Não possui valores ausentes ou outliers com números significantes.\n",
        "\n",
        "- Identificamos os 10 clientes com mais acessos na plataforma, a recomendação seria segmentar esses clientes de acordo com a regra de negócio e gerar leads de acordo com a segmentação.\n",
        "\n",
        "- Conseguimos identificar as funcionalidades mais utilizadas e podemos verificar o porque está ação é tão utilizada e relacionar com a segmentação de cada cliente. Também seria interessante identificar onde o usuário está saindo da plataforma, com uma ferramenta como o `Hotjar`.\n",
        "\n",
        "- Identificamos também a quantidade de clientes que possuimos em cada segmento de acordo com o MRR, os que estão com MRR muito baixo ou baixo, seria interessante oferecer uma oferta, já a quantidade de clientes médios está ótimo, tendo em vista que podemos escalar esse público e os clientes com MRR alto ou muito alto, devemos entender o motivo pelo qual eles possuem MRR e segmenta-los para atrair mais públicos semelhantes.\n",
        "\n",
        "\n",
        "**Todas as conclusões foram baseadas em hipóteses e sem conhecimento da regra de negócio.**"
      ]
    }
  ]
}