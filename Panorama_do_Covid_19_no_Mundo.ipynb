{
  "nbformat": 4,
  "nbformat_minor": 0,
  "metadata": {
    "colab": {
      "name": "Panorama_do_Covid-19_no_Mundo.ipynb",
      "provenance": [],
      "collapsed_sections": [],
      "toc_visible": true,
      "authorship_tag": "ABX9TyOqwJ9AL9l3xRlRpaLUhJZM",
      "include_colab_link": true
    },
    "kernelspec": {
      "name": "python3",
      "display_name": "Python 3"
    },
    "language_info": {
      "name": "python"
    }
  },
  "cells": [
    {
      "cell_type": "markdown",
      "metadata": {
        "id": "view-in-github",
        "colab_type": "text"
      },
      "source": [
        "<a href=\"https://colab.research.google.com/github/iagoit/data_science/blob/main/Panorama_do_Covid_19_no_Mundo.ipynb\" target=\"_parent\"><img src=\"https://colab.research.google.com/assets/colab-badge.svg\" alt=\"Open In Colab\"/></a>"
      ]
    },
    {
      "cell_type": "markdown",
      "metadata": {
        "id": "TKh2Y7CZvIP6"
      },
      "source": [
        "# Panorama COVID-19 pelo Mundo\n",
        "\n",
        "<center><img alt=\"Colaboratory logo\" width=\"70%\" src=\"https://www.feliz.rs.gov.br/web/imgs/textos/informacoes-sobre-o-coronavirus1585585249.jpg\"></center>\n",
        "\n",
        "\n",
        "A Covid-19 é uma infecção respiratória aguda causada pelo coronavírus SARS-CoV-2, potencialmente grave, de elevada transmissibilidade e de distribuição global.\n",
        "\n",
        "O SARS-CoV-2 é um betacoronavírus descoberto em amostras de lavado broncoalveolar obtidas de pacientes com pneumonia de causa desconhecida na cidade de Wuhan, província de Hubei, China, em dezembro de 2019. Pertence ao subgênero Sarbecovírus da família Coronaviridae e é o sétimo coronavírus conhecido a infectar seres humanos.\n",
        "\n",
        "Os coronavírus são uma grande família de vírus comuns em muitas espécies diferentes de animais, incluindo o homem, camelos, gado, gatos e morcegos. Raramente os coronavírus de animais podem infectar pessoas e depois se espalhar entre seres humanos como já ocorreu com o MERS-CoV e o SARS-CoV-2. Até o momento, não foi definido o reservatório silvestre do SARS-CoV-2. (Fonte: [Ministério da Saúde](https://coronavirus.saude.gov.br/sobre-a-doenca))\n",
        "\n",
        "**Neste *notebook*, iremos analisar os dados referentes ao COVID-19 pelo até o momento do dia *04/05/2021*, e ver quais insights podem ser extraídos a partir de dados brutos.**"
      ]
    },
    {
      "cell_type": "markdown",
      "metadata": {
        "id": "yFbJtO9Rxv15"
      },
      "source": [
        "## Obtenção dos Dados\n",
        "\n",
        "### Importando os dados do COVID-19\n",
        "\n",
        "* Para acessar o repositório deste dataset você deve entrar em [Our World in Data](https://github.com/owid/covid-19-data/tree/master/public/data) para conhecer a estrutura do dataset. Usaremos o formato `csv` neste projeto.\n",
        "    * Caso encontre algum problema em baixar diretamente do repositório oficial, você pode usar [este link](https://raw.githubusercontent.com/owid/covid-19-data/master/public/data/owid-covid-data.csv) (atualizado até 04 de maio de 2021).\n",
        "* Importe os dados do `csv` para a variável `df` da seguinte forma: \n",
        "    * *`pd.read_csv(\"endereco_do_arquivo.csv\")`*\n"
      ]
    },
    {
      "cell_type": "markdown",
      "metadata": {
        "id": "llxRtpG6zHRp"
      },
      "source": [
        "### Dicionário de Variáveis\n",
        "\n",
        "Para este projeto as seguintes variáveis foram utilizadas:\n",
        "\n",
        "* `continent` - Localização geográfica do continente\n",
        "* `location` - Localização geográfica\n",
        "* `date` - Data da observação\n",
        "* `total_cases` - Total de casos confirmados de COVID-19\n",
        "* `new_cases` - Novos casos confirmados de COVID-19\n",
        "* `total_deaths` - Total de mortes causadas pelo COVID-19\n",
        "* `new_deaths` - Novas mortes causadas pelo COVID-19\n",
        "* `total_cases_per_million` - Total de casos confirmados de COVID-19 por 1,000,000 de pessoas\n",
        "* `new_cases_per_million` - Novos casos confirmados de COVID-19 por 1,000,000 pessoas\n",
        "* `total_deaths_per_million` - \tTotal de mortes causadas pelo COVID-19 por 1,000,000 pessoas\n",
        "* `new_deaths_per_million` - \tNovas mortes causadas pelo COVID-19 por 1,000,000 pessoas\n",
        "* `population` - População em 2021\n",
        "\n",
        "*Fonte: [Our World in Data](https://github.com/owid/covid-19-data/blob/master/public/data/owid-covid-codebook.csv)*"
      ]
    },
    {
      "cell_type": "markdown",
      "metadata": {
        "id": "262LLYkL4sX1"
      },
      "source": [
        "## Análise exploratória dos dados (Mundo)\n",
        "\n",
        "O primeiro passo é importar os pacotes necessários para realizar a análise exploratória."
      ]
    },
    {
      "cell_type": "code",
      "metadata": {
        "id": "I7EU4NvxTKTD"
      },
      "source": [
        "# importar as bibliotecas\n",
        "import pandas as pd\n",
        "import numpy as np\n",
        "import matplotlib.pyplot as plt\n",
        "import seaborn as sns"
      ],
      "execution_count": 119,
      "outputs": []
    },
    {
      "cell_type": "markdown",
      "metadata": {
        "id": "6CBa9cZ95ezJ"
      },
      "source": [
        "Agora iremos importar nossa base de dados, nosso arquivo `csv`."
      ]
    },
    {
      "cell_type": "code",
      "metadata": {
        "id": "cj4hYkMYTcYN"
      },
      "source": [
        "# importar o dataset\n",
        "df = pd.read_csv('https://covid.ourworldindata.org/data/owid-covid-data.csv')"
      ],
      "execution_count": 120,
      "outputs": []
    },
    {
      "cell_type": "markdown",
      "metadata": {
        "id": "vaMCW7W65n6R"
      },
      "source": [
        "Agora que já temos nossas bibliotecas e o nosso dataset importados, vejamos um *preview* do nosso dataset para que possamos entender quais variáveis possamos utilizar."
      ]
    },
    {
      "cell_type": "code",
      "metadata": {
        "colab": {
          "base_uri": "https://localhost:8080/",
          "height": 309
        },
        "id": "Hw0Ba8ZuTmfN",
        "outputId": "fa38e362-9960-4d7e-cd0f-c2ea8d0280a7"
      },
      "source": [
        "# verificando as primeiras entradas do dataset\n",
        "df.head()"
      ],
      "execution_count": 121,
      "outputs": [
        {
          "output_type": "execute_result",
          "data": {
            "text/html": [
              "<div>\n",
              "<style scoped>\n",
              "    .dataframe tbody tr th:only-of-type {\n",
              "        vertical-align: middle;\n",
              "    }\n",
              "\n",
              "    .dataframe tbody tr th {\n",
              "        vertical-align: top;\n",
              "    }\n",
              "\n",
              "    .dataframe thead th {\n",
              "        text-align: right;\n",
              "    }\n",
              "</style>\n",
              "<table border=\"1\" class=\"dataframe\">\n",
              "  <thead>\n",
              "    <tr style=\"text-align: right;\">\n",
              "      <th></th>\n",
              "      <th>iso_code</th>\n",
              "      <th>continent</th>\n",
              "      <th>location</th>\n",
              "      <th>date</th>\n",
              "      <th>total_cases</th>\n",
              "      <th>new_cases</th>\n",
              "      <th>new_cases_smoothed</th>\n",
              "      <th>total_deaths</th>\n",
              "      <th>new_deaths</th>\n",
              "      <th>new_deaths_smoothed</th>\n",
              "      <th>total_cases_per_million</th>\n",
              "      <th>new_cases_per_million</th>\n",
              "      <th>new_cases_smoothed_per_million</th>\n",
              "      <th>total_deaths_per_million</th>\n",
              "      <th>new_deaths_per_million</th>\n",
              "      <th>new_deaths_smoothed_per_million</th>\n",
              "      <th>reproduction_rate</th>\n",
              "      <th>icu_patients</th>\n",
              "      <th>icu_patients_per_million</th>\n",
              "      <th>hosp_patients</th>\n",
              "      <th>hosp_patients_per_million</th>\n",
              "      <th>weekly_icu_admissions</th>\n",
              "      <th>weekly_icu_admissions_per_million</th>\n",
              "      <th>weekly_hosp_admissions</th>\n",
              "      <th>weekly_hosp_admissions_per_million</th>\n",
              "      <th>new_tests</th>\n",
              "      <th>total_tests</th>\n",
              "      <th>total_tests_per_thousand</th>\n",
              "      <th>new_tests_per_thousand</th>\n",
              "      <th>new_tests_smoothed</th>\n",
              "      <th>new_tests_smoothed_per_thousand</th>\n",
              "      <th>positive_rate</th>\n",
              "      <th>tests_per_case</th>\n",
              "      <th>tests_units</th>\n",
              "      <th>total_vaccinations</th>\n",
              "      <th>people_vaccinated</th>\n",
              "      <th>people_fully_vaccinated</th>\n",
              "      <th>new_vaccinations</th>\n",
              "      <th>new_vaccinations_smoothed</th>\n",
              "      <th>total_vaccinations_per_hundred</th>\n",
              "      <th>people_vaccinated_per_hundred</th>\n",
              "      <th>people_fully_vaccinated_per_hundred</th>\n",
              "      <th>new_vaccinations_smoothed_per_million</th>\n",
              "      <th>stringency_index</th>\n",
              "      <th>population</th>\n",
              "      <th>population_density</th>\n",
              "      <th>median_age</th>\n",
              "      <th>aged_65_older</th>\n",
              "      <th>aged_70_older</th>\n",
              "      <th>gdp_per_capita</th>\n",
              "      <th>extreme_poverty</th>\n",
              "      <th>cardiovasc_death_rate</th>\n",
              "      <th>diabetes_prevalence</th>\n",
              "      <th>female_smokers</th>\n",
              "      <th>male_smokers</th>\n",
              "      <th>handwashing_facilities</th>\n",
              "      <th>hospital_beds_per_thousand</th>\n",
              "      <th>life_expectancy</th>\n",
              "      <th>human_development_index</th>\n",
              "    </tr>\n",
              "  </thead>\n",
              "  <tbody>\n",
              "    <tr>\n",
              "      <th>0</th>\n",
              "      <td>AFG</td>\n",
              "      <td>Asia</td>\n",
              "      <td>Afghanistan</td>\n",
              "      <td>2020-02-24</td>\n",
              "      <td>1.0</td>\n",
              "      <td>1.0</td>\n",
              "      <td>NaN</td>\n",
              "      <td>NaN</td>\n",
              "      <td>NaN</td>\n",
              "      <td>NaN</td>\n",
              "      <td>0.026</td>\n",
              "      <td>0.026</td>\n",
              "      <td>NaN</td>\n",
              "      <td>NaN</td>\n",
              "      <td>NaN</td>\n",
              "      <td>NaN</td>\n",
              "      <td>NaN</td>\n",
              "      <td>NaN</td>\n",
              "      <td>NaN</td>\n",
              "      <td>NaN</td>\n",
              "      <td>NaN</td>\n",
              "      <td>NaN</td>\n",
              "      <td>NaN</td>\n",
              "      <td>NaN</td>\n",
              "      <td>NaN</td>\n",
              "      <td>NaN</td>\n",
              "      <td>NaN</td>\n",
              "      <td>NaN</td>\n",
              "      <td>NaN</td>\n",
              "      <td>NaN</td>\n",
              "      <td>NaN</td>\n",
              "      <td>NaN</td>\n",
              "      <td>NaN</td>\n",
              "      <td>NaN</td>\n",
              "      <td>NaN</td>\n",
              "      <td>NaN</td>\n",
              "      <td>NaN</td>\n",
              "      <td>NaN</td>\n",
              "      <td>NaN</td>\n",
              "      <td>NaN</td>\n",
              "      <td>NaN</td>\n",
              "      <td>NaN</td>\n",
              "      <td>NaN</td>\n",
              "      <td>8.33</td>\n",
              "      <td>38928341.0</td>\n",
              "      <td>54.422</td>\n",
              "      <td>18.6</td>\n",
              "      <td>2.581</td>\n",
              "      <td>1.337</td>\n",
              "      <td>1803.987</td>\n",
              "      <td>NaN</td>\n",
              "      <td>597.029</td>\n",
              "      <td>9.59</td>\n",
              "      <td>NaN</td>\n",
              "      <td>NaN</td>\n",
              "      <td>37.746</td>\n",
              "      <td>0.5</td>\n",
              "      <td>64.83</td>\n",
              "      <td>0.511</td>\n",
              "    </tr>\n",
              "    <tr>\n",
              "      <th>1</th>\n",
              "      <td>AFG</td>\n",
              "      <td>Asia</td>\n",
              "      <td>Afghanistan</td>\n",
              "      <td>2020-02-25</td>\n",
              "      <td>1.0</td>\n",
              "      <td>0.0</td>\n",
              "      <td>NaN</td>\n",
              "      <td>NaN</td>\n",
              "      <td>NaN</td>\n",
              "      <td>NaN</td>\n",
              "      <td>0.026</td>\n",
              "      <td>0.000</td>\n",
              "      <td>NaN</td>\n",
              "      <td>NaN</td>\n",
              "      <td>NaN</td>\n",
              "      <td>NaN</td>\n",
              "      <td>NaN</td>\n",
              "      <td>NaN</td>\n",
              "      <td>NaN</td>\n",
              "      <td>NaN</td>\n",
              "      <td>NaN</td>\n",
              "      <td>NaN</td>\n",
              "      <td>NaN</td>\n",
              "      <td>NaN</td>\n",
              "      <td>NaN</td>\n",
              "      <td>NaN</td>\n",
              "      <td>NaN</td>\n",
              "      <td>NaN</td>\n",
              "      <td>NaN</td>\n",
              "      <td>NaN</td>\n",
              "      <td>NaN</td>\n",
              "      <td>NaN</td>\n",
              "      <td>NaN</td>\n",
              "      <td>NaN</td>\n",
              "      <td>NaN</td>\n",
              "      <td>NaN</td>\n",
              "      <td>NaN</td>\n",
              "      <td>NaN</td>\n",
              "      <td>NaN</td>\n",
              "      <td>NaN</td>\n",
              "      <td>NaN</td>\n",
              "      <td>NaN</td>\n",
              "      <td>NaN</td>\n",
              "      <td>8.33</td>\n",
              "      <td>38928341.0</td>\n",
              "      <td>54.422</td>\n",
              "      <td>18.6</td>\n",
              "      <td>2.581</td>\n",
              "      <td>1.337</td>\n",
              "      <td>1803.987</td>\n",
              "      <td>NaN</td>\n",
              "      <td>597.029</td>\n",
              "      <td>9.59</td>\n",
              "      <td>NaN</td>\n",
              "      <td>NaN</td>\n",
              "      <td>37.746</td>\n",
              "      <td>0.5</td>\n",
              "      <td>64.83</td>\n",
              "      <td>0.511</td>\n",
              "    </tr>\n",
              "    <tr>\n",
              "      <th>2</th>\n",
              "      <td>AFG</td>\n",
              "      <td>Asia</td>\n",
              "      <td>Afghanistan</td>\n",
              "      <td>2020-02-26</td>\n",
              "      <td>1.0</td>\n",
              "      <td>0.0</td>\n",
              "      <td>NaN</td>\n",
              "      <td>NaN</td>\n",
              "      <td>NaN</td>\n",
              "      <td>NaN</td>\n",
              "      <td>0.026</td>\n",
              "      <td>0.000</td>\n",
              "      <td>NaN</td>\n",
              "      <td>NaN</td>\n",
              "      <td>NaN</td>\n",
              "      <td>NaN</td>\n",
              "      <td>NaN</td>\n",
              "      <td>NaN</td>\n",
              "      <td>NaN</td>\n",
              "      <td>NaN</td>\n",
              "      <td>NaN</td>\n",
              "      <td>NaN</td>\n",
              "      <td>NaN</td>\n",
              "      <td>NaN</td>\n",
              "      <td>NaN</td>\n",
              "      <td>NaN</td>\n",
              "      <td>NaN</td>\n",
              "      <td>NaN</td>\n",
              "      <td>NaN</td>\n",
              "      <td>NaN</td>\n",
              "      <td>NaN</td>\n",
              "      <td>NaN</td>\n",
              "      <td>NaN</td>\n",
              "      <td>NaN</td>\n",
              "      <td>NaN</td>\n",
              "      <td>NaN</td>\n",
              "      <td>NaN</td>\n",
              "      <td>NaN</td>\n",
              "      <td>NaN</td>\n",
              "      <td>NaN</td>\n",
              "      <td>NaN</td>\n",
              "      <td>NaN</td>\n",
              "      <td>NaN</td>\n",
              "      <td>8.33</td>\n",
              "      <td>38928341.0</td>\n",
              "      <td>54.422</td>\n",
              "      <td>18.6</td>\n",
              "      <td>2.581</td>\n",
              "      <td>1.337</td>\n",
              "      <td>1803.987</td>\n",
              "      <td>NaN</td>\n",
              "      <td>597.029</td>\n",
              "      <td>9.59</td>\n",
              "      <td>NaN</td>\n",
              "      <td>NaN</td>\n",
              "      <td>37.746</td>\n",
              "      <td>0.5</td>\n",
              "      <td>64.83</td>\n",
              "      <td>0.511</td>\n",
              "    </tr>\n",
              "    <tr>\n",
              "      <th>3</th>\n",
              "      <td>AFG</td>\n",
              "      <td>Asia</td>\n",
              "      <td>Afghanistan</td>\n",
              "      <td>2020-02-27</td>\n",
              "      <td>1.0</td>\n",
              "      <td>0.0</td>\n",
              "      <td>NaN</td>\n",
              "      <td>NaN</td>\n",
              "      <td>NaN</td>\n",
              "      <td>NaN</td>\n",
              "      <td>0.026</td>\n",
              "      <td>0.000</td>\n",
              "      <td>NaN</td>\n",
              "      <td>NaN</td>\n",
              "      <td>NaN</td>\n",
              "      <td>NaN</td>\n",
              "      <td>NaN</td>\n",
              "      <td>NaN</td>\n",
              "      <td>NaN</td>\n",
              "      <td>NaN</td>\n",
              "      <td>NaN</td>\n",
              "      <td>NaN</td>\n",
              "      <td>NaN</td>\n",
              "      <td>NaN</td>\n",
              "      <td>NaN</td>\n",
              "      <td>NaN</td>\n",
              "      <td>NaN</td>\n",
              "      <td>NaN</td>\n",
              "      <td>NaN</td>\n",
              "      <td>NaN</td>\n",
              "      <td>NaN</td>\n",
              "      <td>NaN</td>\n",
              "      <td>NaN</td>\n",
              "      <td>NaN</td>\n",
              "      <td>NaN</td>\n",
              "      <td>NaN</td>\n",
              "      <td>NaN</td>\n",
              "      <td>NaN</td>\n",
              "      <td>NaN</td>\n",
              "      <td>NaN</td>\n",
              "      <td>NaN</td>\n",
              "      <td>NaN</td>\n",
              "      <td>NaN</td>\n",
              "      <td>8.33</td>\n",
              "      <td>38928341.0</td>\n",
              "      <td>54.422</td>\n",
              "      <td>18.6</td>\n",
              "      <td>2.581</td>\n",
              "      <td>1.337</td>\n",
              "      <td>1803.987</td>\n",
              "      <td>NaN</td>\n",
              "      <td>597.029</td>\n",
              "      <td>9.59</td>\n",
              "      <td>NaN</td>\n",
              "      <td>NaN</td>\n",
              "      <td>37.746</td>\n",
              "      <td>0.5</td>\n",
              "      <td>64.83</td>\n",
              "      <td>0.511</td>\n",
              "    </tr>\n",
              "    <tr>\n",
              "      <th>4</th>\n",
              "      <td>AFG</td>\n",
              "      <td>Asia</td>\n",
              "      <td>Afghanistan</td>\n",
              "      <td>2020-02-28</td>\n",
              "      <td>1.0</td>\n",
              "      <td>0.0</td>\n",
              "      <td>NaN</td>\n",
              "      <td>NaN</td>\n",
              "      <td>NaN</td>\n",
              "      <td>NaN</td>\n",
              "      <td>0.026</td>\n",
              "      <td>0.000</td>\n",
              "      <td>NaN</td>\n",
              "      <td>NaN</td>\n",
              "      <td>NaN</td>\n",
              "      <td>NaN</td>\n",
              "      <td>NaN</td>\n",
              "      <td>NaN</td>\n",
              "      <td>NaN</td>\n",
              "      <td>NaN</td>\n",
              "      <td>NaN</td>\n",
              "      <td>NaN</td>\n",
              "      <td>NaN</td>\n",
              "      <td>NaN</td>\n",
              "      <td>NaN</td>\n",
              "      <td>NaN</td>\n",
              "      <td>NaN</td>\n",
              "      <td>NaN</td>\n",
              "      <td>NaN</td>\n",
              "      <td>NaN</td>\n",
              "      <td>NaN</td>\n",
              "      <td>NaN</td>\n",
              "      <td>NaN</td>\n",
              "      <td>NaN</td>\n",
              "      <td>NaN</td>\n",
              "      <td>NaN</td>\n",
              "      <td>NaN</td>\n",
              "      <td>NaN</td>\n",
              "      <td>NaN</td>\n",
              "      <td>NaN</td>\n",
              "      <td>NaN</td>\n",
              "      <td>NaN</td>\n",
              "      <td>NaN</td>\n",
              "      <td>8.33</td>\n",
              "      <td>38928341.0</td>\n",
              "      <td>54.422</td>\n",
              "      <td>18.6</td>\n",
              "      <td>2.581</td>\n",
              "      <td>1.337</td>\n",
              "      <td>1803.987</td>\n",
              "      <td>NaN</td>\n",
              "      <td>597.029</td>\n",
              "      <td>9.59</td>\n",
              "      <td>NaN</td>\n",
              "      <td>NaN</td>\n",
              "      <td>37.746</td>\n",
              "      <td>0.5</td>\n",
              "      <td>64.83</td>\n",
              "      <td>0.511</td>\n",
              "    </tr>\n",
              "  </tbody>\n",
              "</table>\n",
              "</div>"
            ],
            "text/plain": [
              "  iso_code continent  ... life_expectancy human_development_index\n",
              "0      AFG      Asia  ...           64.83                   0.511\n",
              "1      AFG      Asia  ...           64.83                   0.511\n",
              "2      AFG      Asia  ...           64.83                   0.511\n",
              "3      AFG      Asia  ...           64.83                   0.511\n",
              "4      AFG      Asia  ...           64.83                   0.511\n",
              "\n",
              "[5 rows x 59 columns]"
            ]
          },
          "metadata": {
            "tags": []
          },
          "execution_count": 121
        }
      ]
    },
    {
      "cell_type": "markdown",
      "metadata": {
        "id": "rloDKLZ26VYR"
      },
      "source": [
        "Agora que já conhecemos nosso dataset, vejamos quantas variáveis e quantas entradas temos disponíveis."
      ]
    },
    {
      "cell_type": "code",
      "metadata": {
        "colab": {
          "base_uri": "https://localhost:8080/"
        },
        "id": "z7ou3GZuTq10",
        "outputId": "96b6624d-9890-4185-bf23-4d0bab7ddcee"
      },
      "source": [
        "# verificando a dimensão do dataset\n",
        "print(' Entradas:\\t', df.shape[0], \n",
        "       '\\n', \n",
        "       'Variáveis:\\t', df.shape[1])"
      ],
      "execution_count": 122,
      "outputs": [
        {
          "output_type": "stream",
          "text": [
            " Entradas:\t 86197 \n",
            " Variáveis:\t 59\n"
          ],
          "name": "stdout"
        }
      ]
    },
    {
      "cell_type": "markdown",
      "metadata": {
        "id": "NpSB_jz161mP"
      },
      "source": [
        "Agora iremos visualizar as colunas presentes no dataset."
      ]
    },
    {
      "cell_type": "code",
      "metadata": {
        "colab": {
          "base_uri": "https://localhost:8080/"
        },
        "id": "IEQvVFocU6V2",
        "outputId": "9b5e37c4-77a9-4646-adc1-812827a864fb"
      },
      "source": [
        "# verifica as colunas do dataset\n",
        "df.columns"
      ],
      "execution_count": 123,
      "outputs": [
        {
          "output_type": "execute_result",
          "data": {
            "text/plain": [
              "Index(['iso_code', 'continent', 'location', 'date', 'total_cases', 'new_cases',\n",
              "       'new_cases_smoothed', 'total_deaths', 'new_deaths',\n",
              "       'new_deaths_smoothed', 'total_cases_per_million',\n",
              "       'new_cases_per_million', 'new_cases_smoothed_per_million',\n",
              "       'total_deaths_per_million', 'new_deaths_per_million',\n",
              "       'new_deaths_smoothed_per_million', 'reproduction_rate', 'icu_patients',\n",
              "       'icu_patients_per_million', 'hosp_patients',\n",
              "       'hosp_patients_per_million', 'weekly_icu_admissions',\n",
              "       'weekly_icu_admissions_per_million', 'weekly_hosp_admissions',\n",
              "       'weekly_hosp_admissions_per_million', 'new_tests', 'total_tests',\n",
              "       'total_tests_per_thousand', 'new_tests_per_thousand',\n",
              "       'new_tests_smoothed', 'new_tests_smoothed_per_thousand',\n",
              "       'positive_rate', 'tests_per_case', 'tests_units', 'total_vaccinations',\n",
              "       'people_vaccinated', 'people_fully_vaccinated', 'new_vaccinations',\n",
              "       'new_vaccinations_smoothed', 'total_vaccinations_per_hundred',\n",
              "       'people_vaccinated_per_hundred', 'people_fully_vaccinated_per_hundred',\n",
              "       'new_vaccinations_smoothed_per_million', 'stringency_index',\n",
              "       'population', 'population_density', 'median_age', 'aged_65_older',\n",
              "       'aged_70_older', 'gdp_per_capita', 'extreme_poverty',\n",
              "       'cardiovasc_death_rate', 'diabetes_prevalence', 'female_smokers',\n",
              "       'male_smokers', 'handwashing_facilities', 'hospital_beds_per_thousand',\n",
              "       'life_expectancy', 'human_development_index'],\n",
              "      dtype='object')"
            ]
          },
          "metadata": {
            "tags": []
          },
          "execution_count": 123
        }
      ]
    },
    {
      "cell_type": "markdown",
      "metadata": {
        "id": "FbXaiYCy7isB"
      },
      "source": [
        "Para que possamos prosseguir é importante verificarmos os tipos de cara variável, para entender se as variáveis estão da forma correta."
      ]
    },
    {
      "cell_type": "code",
      "metadata": {
        "colab": {
          "base_uri": "https://localhost:8080/"
        },
        "id": "P9EckV3XVw5I",
        "outputId": "7f84dd79-0080-456c-cb7a-68d15df91461"
      },
      "source": [
        "# verifica os tipos de cada coluna\n",
        "df.dtypes"
      ],
      "execution_count": 124,
      "outputs": [
        {
          "output_type": "execute_result",
          "data": {
            "text/plain": [
              "iso_code                                  object\n",
              "continent                                 object\n",
              "location                                  object\n",
              "date                                      object\n",
              "total_cases                              float64\n",
              "new_cases                                float64\n",
              "new_cases_smoothed                       float64\n",
              "total_deaths                             float64\n",
              "new_deaths                               float64\n",
              "new_deaths_smoothed                      float64\n",
              "total_cases_per_million                  float64\n",
              "new_cases_per_million                    float64\n",
              "new_cases_smoothed_per_million           float64\n",
              "total_deaths_per_million                 float64\n",
              "new_deaths_per_million                   float64\n",
              "new_deaths_smoothed_per_million          float64\n",
              "reproduction_rate                        float64\n",
              "icu_patients                             float64\n",
              "icu_patients_per_million                 float64\n",
              "hosp_patients                            float64\n",
              "hosp_patients_per_million                float64\n",
              "weekly_icu_admissions                    float64\n",
              "weekly_icu_admissions_per_million        float64\n",
              "weekly_hosp_admissions                   float64\n",
              "weekly_hosp_admissions_per_million       float64\n",
              "new_tests                                float64\n",
              "total_tests                              float64\n",
              "total_tests_per_thousand                 float64\n",
              "new_tests_per_thousand                   float64\n",
              "new_tests_smoothed                       float64\n",
              "new_tests_smoothed_per_thousand          float64\n",
              "positive_rate                            float64\n",
              "tests_per_case                           float64\n",
              "tests_units                               object\n",
              "total_vaccinations                       float64\n",
              "people_vaccinated                        float64\n",
              "people_fully_vaccinated                  float64\n",
              "new_vaccinations                         float64\n",
              "new_vaccinations_smoothed                float64\n",
              "total_vaccinations_per_hundred           float64\n",
              "people_vaccinated_per_hundred            float64\n",
              "people_fully_vaccinated_per_hundred      float64\n",
              "new_vaccinations_smoothed_per_million    float64\n",
              "stringency_index                         float64\n",
              "population                               float64\n",
              "population_density                       float64\n",
              "median_age                               float64\n",
              "aged_65_older                            float64\n",
              "aged_70_older                            float64\n",
              "gdp_per_capita                           float64\n",
              "extreme_poverty                          float64\n",
              "cardiovasc_death_rate                    float64\n",
              "diabetes_prevalence                      float64\n",
              "female_smokers                           float64\n",
              "male_smokers                             float64\n",
              "handwashing_facilities                   float64\n",
              "hospital_beds_per_thousand               float64\n",
              "life_expectancy                          float64\n",
              "human_development_index                  float64\n",
              "dtype: object"
            ]
          },
          "metadata": {
            "tags": []
          },
          "execution_count": 124
        }
      ]
    },
    {
      "cell_type": "markdown",
      "metadata": {
        "id": "jS8CzkPw8qHx"
      },
      "source": [
        "Mais um detalhe importante é verificar se há valores ausentes no dataset."
      ]
    },
    {
      "cell_type": "code",
      "metadata": {
        "colab": {
          "base_uri": "https://localhost:8080/"
        },
        "id": "1ifgmYw0WIyj",
        "outputId": "cbf61f61-003f-4d43-dfc5-6caf293437c5"
      },
      "source": [
        "(df.isnull().sum() / df.shape[0]).sort_values(ascending = False)"
      ],
      "execution_count": 125,
      "outputs": [
        {
          "output_type": "execute_result",
          "data": {
            "text/plain": [
              "weekly_icu_admissions                    0.990835\n",
              "weekly_icu_admissions_per_million        0.990835\n",
              "weekly_hosp_admissions                   0.984941\n",
              "weekly_hosp_admissions_per_million       0.984941\n",
              "people_fully_vaccinated                  0.921239\n",
              "people_fully_vaccinated_per_hundred      0.921239\n",
              "new_vaccinations                         0.903593\n",
              "icu_patients_per_million                 0.899126\n",
              "icu_patients                             0.899126\n",
              "people_vaccinated                        0.894033\n",
              "people_vaccinated_per_hundred            0.894033\n",
              "total_vaccinations                       0.886284\n",
              "total_vaccinations_per_hundred           0.886284\n",
              "hosp_patients                            0.874416\n",
              "hosp_patients_per_million                0.874416\n",
              "new_vaccinations_smoothed_per_million    0.817488\n",
              "new_vaccinations_smoothed                0.817488\n",
              "total_tests                              0.547896\n",
              "total_tests_per_thousand                 0.547896\n",
              "new_tests_per_thousand                   0.544474\n",
              "new_tests                                0.544474\n",
              "handwashing_facilities                   0.541956\n",
              "tests_per_case                           0.505052\n",
              "positive_rate                            0.498173\n",
              "new_tests_smoothed                       0.478091\n",
              "new_tests_smoothed_per_thousand          0.478091\n",
              "tests_units                              0.461083\n",
              "extreme_poverty                          0.384271\n",
              "male_smokers                             0.296542\n",
              "female_smokers                           0.286019\n",
              "reproduction_rate                        0.191735\n",
              "hospital_beds_per_thousand               0.168393\n",
              "stringency_index                         0.149495\n",
              "total_deaths_per_million                 0.142406\n",
              "new_deaths_per_million                   0.140573\n",
              "total_deaths                             0.137290\n",
              "new_deaths                               0.135457\n",
              "aged_65_older                            0.109633\n",
              "aged_70_older                            0.104400\n",
              "median_age                               0.099354\n",
              "gdp_per_capita                           0.095398\n",
              "human_development_index                  0.089922\n",
              "cardiovasc_death_rate                    0.088553\n",
              "diabetes_prevalence                      0.075014\n",
              "population_density                       0.069144\n",
              "life_expectancy                          0.050883\n",
              "continent                                0.048215\n",
              "new_cases_smoothed_per_million           0.041556\n",
              "new_deaths_smoothed_per_million          0.041556\n",
              "new_deaths_smoothed                      0.036347\n",
              "new_cases_smoothed                       0.036347\n",
              "new_cases_per_million                    0.030001\n",
              "total_cases_per_million                  0.029978\n",
              "new_cases                                0.024734\n",
              "total_cases                              0.024711\n",
              "population                               0.006427\n",
              "date                                     0.000000\n",
              "location                                 0.000000\n",
              "iso_code                                 0.000000\n",
              "dtype: float64"
            ]
          },
          "metadata": {
            "tags": []
          },
          "execution_count": 125
        }
      ]
    },
    {
      "cell_type": "markdown",
      "metadata": {
        "id": "e3xGyknO9Hoz"
      },
      "source": [
        "Já identificamos que a variável `date` está no formato object, ou seja, uma string e por isso precisamos transforma-la em um formato de data, para isso iremos utilizar o `datetime`."
      ]
    },
    {
      "cell_type": "code",
      "metadata": {
        "id": "5_ldiuiTV6GQ"
      },
      "source": [
        "df.date = pd.to_datetime(df.date)"
      ],
      "execution_count": 126,
      "outputs": []
    },
    {
      "cell_type": "markdown",
      "metadata": {
        "id": "9ivdqTQ79Lxi"
      },
      "source": [
        "Agora que nossa variável já está no formato que precisamos iremos verificar qual é a data máxima do nosso dataset."
      ]
    },
    {
      "cell_type": "code",
      "metadata": {
        "colab": {
          "base_uri": "https://localhost:8080/"
        },
        "id": "W0aik9_sXvZi",
        "outputId": "45032c5e-4e82-476f-eeb6-9431e92c63ad"
      },
      "source": [
        "df.date.max()"
      ],
      "execution_count": 127,
      "outputs": [
        {
          "output_type": "execute_result",
          "data": {
            "text/plain": [
              "Timestamp('2021-05-05 00:00:00')"
            ]
          },
          "metadata": {
            "tags": []
          },
          "execution_count": 127
        }
      ]
    },
    {
      "cell_type": "markdown",
      "metadata": {
        "id": "mwreH9sF9vew"
      },
      "source": [
        "## Visão Geral\n",
        "\n"
      ]
    },
    {
      "cell_type": "markdown",
      "metadata": {
        "id": "uztViMesA_se"
      },
      "source": [
        "### Os países com mais casos de COVID-19\n",
        "\n",
        "Agora que já fizemos as conversões necessárias e já entendemos os dados, é hora que entender o que está acontecendo com o COVID-19. Em primeiro momento iremos analisar a evolução dos casos."
      ]
    },
    {
      "cell_type": "code",
      "metadata": {
        "colab": {
          "base_uri": "https://localhost:8080/",
          "height": 390
        },
        "id": "dfW22VUSWZah",
        "outputId": "5336a80f-f4d7-4bda-c924-c1a1b806c056"
      },
      "source": [
        "# os paises com mais casos de covid-19\n",
        "covid_casos = df.loc[df['date'] == '2021-05-04', ['continent', 'location', 'date', 'total_cases']].sort_values(by='total_cases', ascending=False)[0:11].reset_index(drop=True)\n",
        "covid_casos"
      ],
      "execution_count": 128,
      "outputs": [
        {
          "output_type": "execute_result",
          "data": {
            "text/html": [
              "<div>\n",
              "<style scoped>\n",
              "    .dataframe tbody tr th:only-of-type {\n",
              "        vertical-align: middle;\n",
              "    }\n",
              "\n",
              "    .dataframe tbody tr th {\n",
              "        vertical-align: top;\n",
              "    }\n",
              "\n",
              "    .dataframe thead th {\n",
              "        text-align: right;\n",
              "    }\n",
              "</style>\n",
              "<table border=\"1\" class=\"dataframe\">\n",
              "  <thead>\n",
              "    <tr style=\"text-align: right;\">\n",
              "      <th></th>\n",
              "      <th>continent</th>\n",
              "      <th>location</th>\n",
              "      <th>date</th>\n",
              "      <th>total_cases</th>\n",
              "    </tr>\n",
              "  </thead>\n",
              "  <tbody>\n",
              "    <tr>\n",
              "      <th>0</th>\n",
              "      <td>NaN</td>\n",
              "      <td>World</td>\n",
              "      <td>2021-05-04</td>\n",
              "      <td>154359533.0</td>\n",
              "    </tr>\n",
              "    <tr>\n",
              "      <th>1</th>\n",
              "      <td>NaN</td>\n",
              "      <td>Europe</td>\n",
              "      <td>2021-05-04</td>\n",
              "      <td>45244198.0</td>\n",
              "    </tr>\n",
              "    <tr>\n",
              "      <th>2</th>\n",
              "      <td>NaN</td>\n",
              "      <td>Asia</td>\n",
              "      <td>2021-05-04</td>\n",
              "      <td>41447440.0</td>\n",
              "    </tr>\n",
              "    <tr>\n",
              "      <th>3</th>\n",
              "      <td>NaN</td>\n",
              "      <td>North America</td>\n",
              "      <td>2021-05-04</td>\n",
              "      <td>37755433.0</td>\n",
              "    </tr>\n",
              "    <tr>\n",
              "      <th>4</th>\n",
              "      <td>North America</td>\n",
              "      <td>United States</td>\n",
              "      <td>2021-05-04</td>\n",
              "      <td>32512934.0</td>\n",
              "    </tr>\n",
              "    <tr>\n",
              "      <th>5</th>\n",
              "      <td>NaN</td>\n",
              "      <td>European Union</td>\n",
              "      <td>2021-05-04</td>\n",
              "      <td>31072821.0</td>\n",
              "    </tr>\n",
              "    <tr>\n",
              "      <th>6</th>\n",
              "      <td>NaN</td>\n",
              "      <td>South America</td>\n",
              "      <td>2021-05-04</td>\n",
              "      <td>25281788.0</td>\n",
              "    </tr>\n",
              "    <tr>\n",
              "      <th>7</th>\n",
              "      <td>Asia</td>\n",
              "      <td>India</td>\n",
              "      <td>2021-05-04</td>\n",
              "      <td>20664979.0</td>\n",
              "    </tr>\n",
              "    <tr>\n",
              "      <th>8</th>\n",
              "      <td>South America</td>\n",
              "      <td>Brazil</td>\n",
              "      <td>2021-05-04</td>\n",
              "      <td>14856888.0</td>\n",
              "    </tr>\n",
              "    <tr>\n",
              "      <th>9</th>\n",
              "      <td>Europe</td>\n",
              "      <td>France</td>\n",
              "      <td>2021-05-04</td>\n",
              "      <td>5741537.0</td>\n",
              "    </tr>\n",
              "    <tr>\n",
              "      <th>10</th>\n",
              "      <td>Asia</td>\n",
              "      <td>Turkey</td>\n",
              "      <td>2021-05-04</td>\n",
              "      <td>4929118.0</td>\n",
              "    </tr>\n",
              "  </tbody>\n",
              "</table>\n",
              "</div>"
            ],
            "text/plain": [
              "        continent        location       date  total_cases\n",
              "0             NaN           World 2021-05-04  154359533.0\n",
              "1             NaN          Europe 2021-05-04   45244198.0\n",
              "2             NaN            Asia 2021-05-04   41447440.0\n",
              "3             NaN   North America 2021-05-04   37755433.0\n",
              "4   North America   United States 2021-05-04   32512934.0\n",
              "5             NaN  European Union 2021-05-04   31072821.0\n",
              "6             NaN   South America 2021-05-04   25281788.0\n",
              "7            Asia           India 2021-05-04   20664979.0\n",
              "8   South America          Brazil 2021-05-04   14856888.0\n",
              "9          Europe          France 2021-05-04    5741537.0\n",
              "10           Asia          Turkey 2021-05-04    4929118.0"
            ]
          },
          "metadata": {
            "tags": []
          },
          "execution_count": 128
        }
      ]
    },
    {
      "cell_type": "markdown",
      "metadata": {
        "id": "BRgcsaz4DpWu"
      },
      "source": [
        "Como podemos ver os dados na tabela não estão da forma que esperamos, os continentes estão apresentando valores NaN e a localização está com dados de continentes e países, então vamos limpar nosso dataset utilizando o método `dropna`."
      ]
    },
    {
      "cell_type": "code",
      "metadata": {
        "colab": {
          "base_uri": "https://localhost:8080/",
          "height": 204
        },
        "id": "g--kIQTM-q4f",
        "outputId": "38e3ba69-b16c-445f-e90b-012c4528c4bf"
      },
      "source": [
        "# removendo os valores NaN \n",
        "covid_casos = covid_casos.dropna(subset=['continent'])\n",
        "covid_casos[0:6].reset_index(drop=True)"
      ],
      "execution_count": 129,
      "outputs": [
        {
          "output_type": "execute_result",
          "data": {
            "text/html": [
              "<div>\n",
              "<style scoped>\n",
              "    .dataframe tbody tr th:only-of-type {\n",
              "        vertical-align: middle;\n",
              "    }\n",
              "\n",
              "    .dataframe tbody tr th {\n",
              "        vertical-align: top;\n",
              "    }\n",
              "\n",
              "    .dataframe thead th {\n",
              "        text-align: right;\n",
              "    }\n",
              "</style>\n",
              "<table border=\"1\" class=\"dataframe\">\n",
              "  <thead>\n",
              "    <tr style=\"text-align: right;\">\n",
              "      <th></th>\n",
              "      <th>continent</th>\n",
              "      <th>location</th>\n",
              "      <th>date</th>\n",
              "      <th>total_cases</th>\n",
              "    </tr>\n",
              "  </thead>\n",
              "  <tbody>\n",
              "    <tr>\n",
              "      <th>0</th>\n",
              "      <td>North America</td>\n",
              "      <td>United States</td>\n",
              "      <td>2021-05-04</td>\n",
              "      <td>32512934.0</td>\n",
              "    </tr>\n",
              "    <tr>\n",
              "      <th>1</th>\n",
              "      <td>Asia</td>\n",
              "      <td>India</td>\n",
              "      <td>2021-05-04</td>\n",
              "      <td>20664979.0</td>\n",
              "    </tr>\n",
              "    <tr>\n",
              "      <th>2</th>\n",
              "      <td>South America</td>\n",
              "      <td>Brazil</td>\n",
              "      <td>2021-05-04</td>\n",
              "      <td>14856888.0</td>\n",
              "    </tr>\n",
              "    <tr>\n",
              "      <th>3</th>\n",
              "      <td>Europe</td>\n",
              "      <td>France</td>\n",
              "      <td>2021-05-04</td>\n",
              "      <td>5741537.0</td>\n",
              "    </tr>\n",
              "    <tr>\n",
              "      <th>4</th>\n",
              "      <td>Asia</td>\n",
              "      <td>Turkey</td>\n",
              "      <td>2021-05-04</td>\n",
              "      <td>4929118.0</td>\n",
              "    </tr>\n",
              "  </tbody>\n",
              "</table>\n",
              "</div>"
            ],
            "text/plain": [
              "       continent       location       date  total_cases\n",
              "0  North America  United States 2021-05-04   32512934.0\n",
              "1           Asia          India 2021-05-04   20664979.0\n",
              "2  South America         Brazil 2021-05-04   14856888.0\n",
              "3         Europe         France 2021-05-04    5741537.0\n",
              "4           Asia         Turkey 2021-05-04    4929118.0"
            ]
          },
          "metadata": {
            "tags": []
          },
          "execution_count": 129
        }
      ]
    },
    {
      "cell_type": "markdown",
      "metadata": {
        "id": "iOnq8m_MD9s4"
      },
      "source": [
        "Agora conseguimos deixar a tabela de uma maneira legível e já conseguimos identificar os 5 países com mais casos de COVID-19. Agora vamos plotar uma gráfico e ver se conseguimos extrair algum insight."
      ]
    },
    {
      "cell_type": "code",
      "metadata": {
        "colab": {
          "base_uri": "https://localhost:8080/",
          "height": 491
        },
        "id": "-KMXJU0hM_Rk",
        "outputId": "9d465151-232d-40e7-86a1-d0a4eb8cad91"
      },
      "source": [
        "# figura matplotlib\n",
        "fig, ax = plt.subplots(figsize=(10, 6))\n",
        "sns.set()\n",
        "\n",
        "# plot com seaborn\n",
        "ax = sns.barplot('location', y='total_cases', data = covid_casos, palette='Greens_r')\n",
        "ax.set_title('Top 5 países em números de casos de COVID-19', fontsize=14)\n",
        "ax.set_xlabel('Países')\n",
        "ax.set_ylabel('Total de Casos')\n",
        "plt.tight_layout()\n",
        "plt.savefig('graph1.png')"
      ],
      "execution_count": 130,
      "outputs": [
        {
          "output_type": "stream",
          "text": [
            "/usr/local/lib/python3.7/dist-packages/seaborn/_decorators.py:43: FutureWarning: Pass the following variable as a keyword arg: x. From version 0.12, the only valid positional argument will be `data`, and passing other arguments without an explicit keyword will result in an error or misinterpretation.\n",
            "  FutureWarning\n"
          ],
          "name": "stderr"
        },
        {
          "output_type": "display_data",
          "data": {
            "image/png": "[encoded data removed]",
            "text/plain": [
              "<Figure size 720x432 with 1 Axes>"
            ]
          },
          "metadata": {
            "tags": []
          }
        }
      ]
    },
    {
      "cell_type": "markdown",
      "metadata": {
        "id": "Jd1jmO0MGPna"
      },
      "source": [
        "Bom, agora com o gráfico plotado já conseguimos identificar que os Estados Unidos lidera o ranking de casos de COVID-19, seguido de Índia, Brasil, França e Turquia. Mesmo vendo esse gráfico não é possível dizer se os Estados Unidos irá continuar liderando ou não este ranking, precisaremos ir mais a fundo no problema."
      ]
    },
    {
      "cell_type": "markdown",
      "metadata": {
        "id": "Vv8CX5osBE4t"
      },
      "source": [
        "### Os países com mais mortes de COVID-19"
      ]
    },
    {
      "cell_type": "markdown",
      "metadata": {
        "id": "QFUYXyxuHTh1"
      },
      "source": [
        "Agora que já analisamos os casos, agora é hora de saber se os países que lideram o números de casos, também lideram o número de mortes pelo COVID-19."
      ]
    },
    {
      "cell_type": "code",
      "metadata": {
        "colab": {
          "base_uri": "https://localhost:8080/",
          "height": 390
        },
        "id": "0i_ZswgXLVv1",
        "outputId": "3ffc2263-0600-454b-c610-2065cd01d220"
      },
      "source": [
        "# os países com mais mortes causadas pelo covid-19\n",
        "covid_mortes = df.loc[df['date'] == '2021-05-04', ['continent', 'location', 'date', 'total_deaths']].sort_values(by='total_deaths', ascending=False)[0:11].reset_index(drop=True)\n",
        "covid_mortes"
      ],
      "execution_count": 131,
      "outputs": [
        {
          "output_type": "execute_result",
          "data": {
            "text/html": [
              "<div>\n",
              "<style scoped>\n",
              "    .dataframe tbody tr th:only-of-type {\n",
              "        vertical-align: middle;\n",
              "    }\n",
              "\n",
              "    .dataframe tbody tr th {\n",
              "        vertical-align: top;\n",
              "    }\n",
              "\n",
              "    .dataframe thead th {\n",
              "        text-align: right;\n",
              "    }\n",
              "</style>\n",
              "<table border=\"1\" class=\"dataframe\">\n",
              "  <thead>\n",
              "    <tr style=\"text-align: right;\">\n",
              "      <th></th>\n",
              "      <th>continent</th>\n",
              "      <th>location</th>\n",
              "      <th>date</th>\n",
              "      <th>total_deaths</th>\n",
              "    </tr>\n",
              "  </thead>\n",
              "  <tbody>\n",
              "    <tr>\n",
              "      <th>0</th>\n",
              "      <td>NaN</td>\n",
              "      <td>World</td>\n",
              "      <td>2021-05-04</td>\n",
              "      <td>3227598.0</td>\n",
              "    </tr>\n",
              "    <tr>\n",
              "      <th>1</th>\n",
              "      <td>NaN</td>\n",
              "      <td>Europe</td>\n",
              "      <td>2021-05-04</td>\n",
              "      <td>1025369.0</td>\n",
              "    </tr>\n",
              "    <tr>\n",
              "      <th>2</th>\n",
              "      <td>NaN</td>\n",
              "      <td>North America</td>\n",
              "      <td>2021-05-04</td>\n",
              "      <td>851630.0</td>\n",
              "    </tr>\n",
              "    <tr>\n",
              "      <th>3</th>\n",
              "      <td>NaN</td>\n",
              "      <td>European Union</td>\n",
              "      <td>2021-05-04</td>\n",
              "      <td>694692.0</td>\n",
              "    </tr>\n",
              "    <tr>\n",
              "      <th>4</th>\n",
              "      <td>NaN</td>\n",
              "      <td>South America</td>\n",
              "      <td>2021-05-04</td>\n",
              "      <td>685994.0</td>\n",
              "    </tr>\n",
              "    <tr>\n",
              "      <th>5</th>\n",
              "      <td>North America</td>\n",
              "      <td>United States</td>\n",
              "      <td>2021-05-04</td>\n",
              "      <td>578499.0</td>\n",
              "    </tr>\n",
              "    <tr>\n",
              "      <th>6</th>\n",
              "      <td>NaN</td>\n",
              "      <td>Asia</td>\n",
              "      <td>2021-05-04</td>\n",
              "      <td>540641.0</td>\n",
              "    </tr>\n",
              "    <tr>\n",
              "      <th>7</th>\n",
              "      <td>South America</td>\n",
              "      <td>Brazil</td>\n",
              "      <td>2021-05-04</td>\n",
              "      <td>411588.0</td>\n",
              "    </tr>\n",
              "    <tr>\n",
              "      <th>8</th>\n",
              "      <td>Asia</td>\n",
              "      <td>India</td>\n",
              "      <td>2021-05-04</td>\n",
              "      <td>226188.0</td>\n",
              "    </tr>\n",
              "    <tr>\n",
              "      <th>9</th>\n",
              "      <td>North America</td>\n",
              "      <td>Mexico</td>\n",
              "      <td>2021-05-04</td>\n",
              "      <td>217740.0</td>\n",
              "    </tr>\n",
              "    <tr>\n",
              "      <th>10</th>\n",
              "      <td>Europe</td>\n",
              "      <td>United Kingdom</td>\n",
              "      <td>2021-05-04</td>\n",
              "      <td>127803.0</td>\n",
              "    </tr>\n",
              "  </tbody>\n",
              "</table>\n",
              "</div>"
            ],
            "text/plain": [
              "        continent        location       date  total_deaths\n",
              "0             NaN           World 2021-05-04     3227598.0\n",
              "1             NaN          Europe 2021-05-04     1025369.0\n",
              "2             NaN   North America 2021-05-04      851630.0\n",
              "3             NaN  European Union 2021-05-04      694692.0\n",
              "4             NaN   South America 2021-05-04      685994.0\n",
              "5   North America   United States 2021-05-04      578499.0\n",
              "6             NaN            Asia 2021-05-04      540641.0\n",
              "7   South America          Brazil 2021-05-04      411588.0\n",
              "8            Asia           India 2021-05-04      226188.0\n",
              "9   North America          Mexico 2021-05-04      217740.0\n",
              "10         Europe  United Kingdom 2021-05-04      127803.0"
            ]
          },
          "metadata": {
            "tags": []
          },
          "execution_count": 131
        }
      ]
    },
    {
      "cell_type": "markdown",
      "metadata": {
        "id": "GeIwqfPTH1Fm"
      },
      "source": [
        "Assim como na tabela de anterior, será necessário utilizar o `dropna` para realizar a limpeza na tabela. "
      ]
    },
    {
      "cell_type": "code",
      "metadata": {
        "colab": {
          "base_uri": "https://localhost:8080/",
          "height": 204
        },
        "id": "OcqyIMv9L5a3",
        "outputId": "be27951f-6a65-43e7-f29a-0e6f4435e231"
      },
      "source": [
        "# removendo os valores NaN\n",
        "covid_mortes = covid_mortes.dropna(subset=['continent'])\n",
        "covid_mortes[0:6].reset_index(drop=True)"
      ],
      "execution_count": 132,
      "outputs": [
        {
          "output_type": "execute_result",
          "data": {
            "text/html": [
              "<div>\n",
              "<style scoped>\n",
              "    .dataframe tbody tr th:only-of-type {\n",
              "        vertical-align: middle;\n",
              "    }\n",
              "\n",
              "    .dataframe tbody tr th {\n",
              "        vertical-align: top;\n",
              "    }\n",
              "\n",
              "    .dataframe thead th {\n",
              "        text-align: right;\n",
              "    }\n",
              "</style>\n",
              "<table border=\"1\" class=\"dataframe\">\n",
              "  <thead>\n",
              "    <tr style=\"text-align: right;\">\n",
              "      <th></th>\n",
              "      <th>continent</th>\n",
              "      <th>location</th>\n",
              "      <th>date</th>\n",
              "      <th>total_deaths</th>\n",
              "    </tr>\n",
              "  </thead>\n",
              "  <tbody>\n",
              "    <tr>\n",
              "      <th>0</th>\n",
              "      <td>North America</td>\n",
              "      <td>United States</td>\n",
              "      <td>2021-05-04</td>\n",
              "      <td>578499.0</td>\n",
              "    </tr>\n",
              "    <tr>\n",
              "      <th>1</th>\n",
              "      <td>South America</td>\n",
              "      <td>Brazil</td>\n",
              "      <td>2021-05-04</td>\n",
              "      <td>411588.0</td>\n",
              "    </tr>\n",
              "    <tr>\n",
              "      <th>2</th>\n",
              "      <td>Asia</td>\n",
              "      <td>India</td>\n",
              "      <td>2021-05-04</td>\n",
              "      <td>226188.0</td>\n",
              "    </tr>\n",
              "    <tr>\n",
              "      <th>3</th>\n",
              "      <td>North America</td>\n",
              "      <td>Mexico</td>\n",
              "      <td>2021-05-04</td>\n",
              "      <td>217740.0</td>\n",
              "    </tr>\n",
              "    <tr>\n",
              "      <th>4</th>\n",
              "      <td>Europe</td>\n",
              "      <td>United Kingdom</td>\n",
              "      <td>2021-05-04</td>\n",
              "      <td>127803.0</td>\n",
              "    </tr>\n",
              "  </tbody>\n",
              "</table>\n",
              "</div>"
            ],
            "text/plain": [
              "       continent        location       date  total_deaths\n",
              "0  North America   United States 2021-05-04      578499.0\n",
              "1  South America          Brazil 2021-05-04      411588.0\n",
              "2           Asia           India 2021-05-04      226188.0\n",
              "3  North America          Mexico 2021-05-04      217740.0\n",
              "4         Europe  United Kingdom 2021-05-04      127803.0"
            ]
          },
          "metadata": {
            "tags": []
          },
          "execution_count": 132
        }
      ]
    },
    {
      "cell_type": "markdown",
      "metadata": {
        "id": "LovgWV7QICrT"
      },
      "source": [
        "Bom, agora já temos uma tabela limpa e com isso conseguimos identificar algumas mudanças em relação aos casos de COVID-19, mas vamos plotar um gráfico para entender melhor os dados."
      ]
    },
    {
      "cell_type": "code",
      "metadata": {
        "colab": {
          "base_uri": "https://localhost:8080/",
          "height": 491
        },
        "id": "kyCX7iJkPWyO",
        "outputId": "241caa0c-4b3f-4932-96ad-6944529c1507"
      },
      "source": [
        "# figura matplotlib\n",
        "fig, ax = plt.subplots(figsize=(10, 6))\n",
        "sns.set()\n",
        "\n",
        "# plot com seaborn\n",
        "ax = sns.barplot('location', y='total_deaths', data=covid_mortes, palette='Reds_r')\n",
        "ax.set_title('Top 5 países em números de mortes de COVID-19', fontsize=14)\n",
        "ax.set_xlabel('Países')\n",
        "ax.set_ylabel('Total de mortes')\n",
        "plt.tight_layout()\n",
        "plt.savefig('graph2.png')"
      ],
      "execution_count": 133,
      "outputs": [
        {
          "output_type": "stream",
          "text": [
            "/usr/local/lib/python3.7/dist-packages/seaborn/_decorators.py:43: FutureWarning: Pass the following variable as a keyword arg: x. From version 0.12, the only valid positional argument will be `data`, and passing other arguments without an explicit keyword will result in an error or misinterpretation.\n",
            "  FutureWarning\n"
          ],
          "name": "stderr"
        },
        {
          "output_type": "display_data",
          "data": {
            "image/png": "[encoded data removed]",
            "text/plain": [
              "<Figure size 720x432 with 1 Axes>"
            ]
          },
          "metadata": {
            "tags": []
          }
        }
      ]
    },
    {
      "cell_type": "markdown",
      "metadata": {
        "id": "CXqtCzhLI93o"
      },
      "source": [
        "Agora que temos o gráfico vamos falar das mudanças que ocorreram em relação ao casos de COVID-19. O resultado ainda segue com o Estados Unidos liderando o ranking, ou seja, lidera o ranking de casos e mortes. A Índia que era segunda colocada em números de casos vira a terceira posição em números de mortes, mesmo tendo mais casos. O Brasil que era terceiro colocado em números de casos fica em segundo colocado em número de mortes, vale ressaltar que a Índia possui 1.366 bilhões de habitantes [(2019), Fonte: Data Commons](https://datacommons.org/place/country/IND?utm_medium=explore&mprop=count&popt=Person&hl=en) e o Brasil possui 211 milhões [(2019), Fonte: Data Commons](https://datacommons.org/place/country/BRA?utm_medium=explore&mprop=count&popt=Person&hl=en) de habitantes, ou seja, o Brasil tem mais números de mortes mesmo significando quase 1/7 da população da Índia. E agora o México e o Reino Unido também aparecem com mais casos de mortes que a França e a Turquia."
      ]
    },
    {
      "cell_type": "markdown",
      "metadata": {
        "id": "4FmWIVm8BOku"
      },
      "source": [
        "### Evolução da COVID-19 no mundo\n",
        "\n",
        "Agora vamos plotar um gráfico para entender o que está acontecendo no mundo em relação ao COVID-19. "
      ]
    },
    {
      "cell_type": "code",
      "metadata": {
        "colab": {
          "base_uri": "https://localhost:8080/",
          "height": 437
        },
        "id": "KbiTjK1mQYFs",
        "outputId": "8eb01519-508a-4f26-977c-ffa640863111"
      },
      "source": [
        "# setando os 5 países com mais casos por index\n",
        "evolucao_casos = df.copy()\n",
        "evolucao_casos.set_index('location', inplace = True)\n",
        "evolucao_casos = evolucao_casos.loc[['United States', 'India', 'Brazil', 'France', 'Turkey']]\n",
        "evolucao_casos = evolucao_casos.reset_index()\n",
        "\n",
        "# figura matplotlib\n",
        "fig, ax = plt.subplots(figsize=(12, 6))\n",
        "\n",
        "# plot com seaborn\n",
        "ax = sns.lineplot(x='date', y='total_cases', hue='location', data=evolucao_casos, palette='husl');\n",
        "ax.set_title('Top 5 países em números de casos de COVID-19', fontsize=14)\n",
        "ax.set_xlabel('Data')\n",
        "ax.set_ylabel('Número de casos')\n",
        "\n",
        "plt.tight_layout()\n",
        "plt.savefig('graph3.png')"
      ],
      "execution_count": 134,
      "outputs": [
        {
          "output_type": "display_data",
          "data": {
            "image/png": "[encoded data removed]",
            "text/plain": [
              "<Figure size 864x432 with 1 Axes>"
            ]
          },
          "metadata": {
            "tags": []
          }
        }
      ]
    },
    {
      "cell_type": "markdown",
      "metadata": {
        "id": "4oINlghIPbTb"
      },
      "source": [
        "Com este gráfico é possivel identificar o motivo da Índia ter se tornado o novo epicentro da pandemia, mas vamos entender o que o gráfico está tentando dizer.\n",
        "\n",
        "* Estados Unidos: O número de casos ainda continua crescendo, mas já da pra identificar que em alguns meses vacinando a população tende a entrar em uma constante ou cair o número de casos diários.\n",
        "* Índia: Como novo epicentro da pandemia não tem como negar que os casos só tendem a crescer exponencialmente.\n",
        "* Brasil: O antigo epicentro ainda tende a crescer o número de casos exponencialmente.\n",
        "* França: Está aumentando os números de casos discretamente.\n",
        "* Turquia: Segue a mesma linha da frança crescendo os números de casos discretamente."
      ]
    },
    {
      "cell_type": "code",
      "metadata": {
        "colab": {
          "base_uri": "https://localhost:8080/",
          "height": 437
        },
        "id": "9bRgvvMJRTqG",
        "outputId": "193f9b93-eda0-469b-f771-a7f6a477db7c"
      },
      "source": [
        "# setando os 5 países com mais mortes por index\n",
        "evolucao_mortes = df.copy()\n",
        "evolucao_mortes.set_index('location', inplace = True)\n",
        "evolucao_mortes = evolucao_mortes.loc[['United States', 'India', 'Brazil', 'Mexico', 'United Kingdom']]\n",
        "evolucao_mortes = evolucao_mortes.reset_index()\n",
        "\n",
        "# figura matplotlib\n",
        "fig, ax = plt.subplots(figsize=(12, 6))\n",
        "\n",
        "# plot com seaborn\n",
        "ax = sns.lineplot(x='date', y='total_deaths', hue='location', data=evolucao_mortes, \n",
        "                  palette='husl');\n",
        "ax.set_title('Top 5 países em números de mortes de COVID-19', fontsize=14)\n",
        "ax.set_xlabel('Data')\n",
        "ax.set_ylabel('Número de mortes')\n",
        "\n",
        "plt.tight_layout()\n",
        "plt.savefig('graph4.png')"
      ],
      "execution_count": 135,
      "outputs": [
        {
          "output_type": "display_data",
          "data": {
            "image/png": "[encoded data removed]",
            "text/plain": [
              "<Figure size 864x432 with 1 Axes>"
            ]
          },
          "metadata": {
            "tags": []
          }
        }
      ]
    },
    {
      "cell_type": "markdown",
      "metadata": {
        "id": "s4se-hd0RJVs"
      },
      "source": [
        "Assim como no gráfico de casos, vamos tentar entender o que o gráfico está tentando nós dizer.\n",
        "\n",
        "* Estados Unidos: Percebemos que os Estados Unidos está entrando em um ambiente controlado de mortes diárias no país.\n",
        "* Índia: A Índia por ter se tornado o novo epicentro do vírus a taxa de mortes só tendem a crescer.\n",
        "* Brasil: O Brasil está longe de ter um ambiente controlado de mortes diárias.\n",
        "* México: Tem um crescimento bem discreto, podendo indicar um possivel cenário controlado.\n",
        "* Reino Unido: Já está com as mortes controladas há alguns meses."
      ]
    },
    {
      "cell_type": "markdown",
      "metadata": {
        "id": "kkKCXBf-Uad_"
      },
      "source": [
        "## Análise exploratória do Brasil\n",
        "\n",
        "Já vimos que o Brasil é o terceiro colocado em números de casos e segundo colocado em número de mortes e estes números não aparentam está caindo.\n",
        "\n",
        "Agora vamos entender o que está acontecendo no Brasil e comparar com o mundo."
      ]
    },
    {
      "cell_type": "markdown",
      "metadata": {
        "id": "v-IiApkfVUPB"
      },
      "source": [
        "Primeiro iremos copiar e ordenar os dados exclusivamente do Brasil"
      ]
    },
    {
      "cell_type": "code",
      "metadata": {
        "colab": {
          "base_uri": "https://localhost:8080/",
          "height": 340
        },
        "id": "QKC9HCNoUZ-6",
        "outputId": "2afe313b-de57-409c-b884-185fad11fbb0"
      },
      "source": [
        "# copiar o dataframe com informações exclusivamente do Brasil e setar o index por data\n",
        "df_brasil = df.loc[df['location'] == 'Brazil'].copy()\n",
        "df_brasil.set_index('date', inplace=True)\n",
        "\n",
        "# verificar como ficou o head()\n",
        "df_brasil.head()"
      ],
      "execution_count": 136,
      "outputs": [
        {
          "output_type": "execute_result",
          "data": {
            "text/html": [
              "<div>\n",
              "<style scoped>\n",
              "    .dataframe tbody tr th:only-of-type {\n",
              "        vertical-align: middle;\n",
              "    }\n",
              "\n",
              "    .dataframe tbody tr th {\n",
              "        vertical-align: top;\n",
              "    }\n",
              "\n",
              "    .dataframe thead th {\n",
              "        text-align: right;\n",
              "    }\n",
              "</style>\n",
              "<table border=\"1\" class=\"dataframe\">\n",
              "  <thead>\n",
              "    <tr style=\"text-align: right;\">\n",
              "      <th></th>\n",
              "      <th>iso_code</th>\n",
              "      <th>continent</th>\n",
              "      <th>location</th>\n",
              "      <th>total_cases</th>\n",
              "      <th>new_cases</th>\n",
              "      <th>new_cases_smoothed</th>\n",
              "      <th>total_deaths</th>\n",
              "      <th>new_deaths</th>\n",
              "      <th>new_deaths_smoothed</th>\n",
              "      <th>total_cases_per_million</th>\n",
              "      <th>new_cases_per_million</th>\n",
              "      <th>new_cases_smoothed_per_million</th>\n",
              "      <th>total_deaths_per_million</th>\n",
              "      <th>new_deaths_per_million</th>\n",
              "      <th>new_deaths_smoothed_per_million</th>\n",
              "      <th>reproduction_rate</th>\n",
              "      <th>icu_patients</th>\n",
              "      <th>icu_patients_per_million</th>\n",
              "      <th>hosp_patients</th>\n",
              "      <th>hosp_patients_per_million</th>\n",
              "      <th>weekly_icu_admissions</th>\n",
              "      <th>weekly_icu_admissions_per_million</th>\n",
              "      <th>weekly_hosp_admissions</th>\n",
              "      <th>weekly_hosp_admissions_per_million</th>\n",
              "      <th>new_tests</th>\n",
              "      <th>total_tests</th>\n",
              "      <th>total_tests_per_thousand</th>\n",
              "      <th>new_tests_per_thousand</th>\n",
              "      <th>new_tests_smoothed</th>\n",
              "      <th>new_tests_smoothed_per_thousand</th>\n",
              "      <th>positive_rate</th>\n",
              "      <th>tests_per_case</th>\n",
              "      <th>tests_units</th>\n",
              "      <th>total_vaccinations</th>\n",
              "      <th>people_vaccinated</th>\n",
              "      <th>people_fully_vaccinated</th>\n",
              "      <th>new_vaccinations</th>\n",
              "      <th>new_vaccinations_smoothed</th>\n",
              "      <th>total_vaccinations_per_hundred</th>\n",
              "      <th>people_vaccinated_per_hundred</th>\n",
              "      <th>people_fully_vaccinated_per_hundred</th>\n",
              "      <th>new_vaccinations_smoothed_per_million</th>\n",
              "      <th>stringency_index</th>\n",
              "      <th>population</th>\n",
              "      <th>population_density</th>\n",
              "      <th>median_age</th>\n",
              "      <th>aged_65_older</th>\n",
              "      <th>aged_70_older</th>\n",
              "      <th>gdp_per_capita</th>\n",
              "      <th>extreme_poverty</th>\n",
              "      <th>cardiovasc_death_rate</th>\n",
              "      <th>diabetes_prevalence</th>\n",
              "      <th>female_smokers</th>\n",
              "      <th>male_smokers</th>\n",
              "      <th>handwashing_facilities</th>\n",
              "      <th>hospital_beds_per_thousand</th>\n",
              "      <th>life_expectancy</th>\n",
              "      <th>human_development_index</th>\n",
              "    </tr>\n",
              "    <tr>\n",
              "      <th>date</th>\n",
              "      <th></th>\n",
              "      <th></th>\n",
              "      <th></th>\n",
              "      <th></th>\n",
              "      <th></th>\n",
              "      <th></th>\n",
              "      <th></th>\n",
              "      <th></th>\n",
              "      <th></th>\n",
              "      <th></th>\n",
              "      <th></th>\n",
              "      <th></th>\n",
              "      <th></th>\n",
              "      <th></th>\n",
              "      <th></th>\n",
              "      <th></th>\n",
              "      <th></th>\n",
              "      <th></th>\n",
              "      <th></th>\n",
              "      <th></th>\n",
              "      <th></th>\n",
              "      <th></th>\n",
              "      <th></th>\n",
              "      <th></th>\n",
              "      <th></th>\n",
              "      <th></th>\n",
              "      <th></th>\n",
              "      <th></th>\n",
              "      <th></th>\n",
              "      <th></th>\n",
              "      <th></th>\n",
              "      <th></th>\n",
              "      <th></th>\n",
              "      <th></th>\n",
              "      <th></th>\n",
              "      <th></th>\n",
              "      <th></th>\n",
              "      <th></th>\n",
              "      <th></th>\n",
              "      <th></th>\n",
              "      <th></th>\n",
              "      <th></th>\n",
              "      <th></th>\n",
              "      <th></th>\n",
              "      <th></th>\n",
              "      <th></th>\n",
              "      <th></th>\n",
              "      <th></th>\n",
              "      <th></th>\n",
              "      <th></th>\n",
              "      <th></th>\n",
              "      <th></th>\n",
              "      <th></th>\n",
              "      <th></th>\n",
              "      <th></th>\n",
              "      <th></th>\n",
              "      <th></th>\n",
              "      <th></th>\n",
              "    </tr>\n",
              "  </thead>\n",
              "  <tbody>\n",
              "    <tr>\n",
              "      <th>2020-02-26</th>\n",
              "      <td>BRA</td>\n",
              "      <td>South America</td>\n",
              "      <td>Brazil</td>\n",
              "      <td>1.0</td>\n",
              "      <td>1.0</td>\n",
              "      <td>NaN</td>\n",
              "      <td>NaN</td>\n",
              "      <td>NaN</td>\n",
              "      <td>NaN</td>\n",
              "      <td>0.005</td>\n",
              "      <td>0.005</td>\n",
              "      <td>NaN</td>\n",
              "      <td>NaN</td>\n",
              "      <td>NaN</td>\n",
              "      <td>NaN</td>\n",
              "      <td>NaN</td>\n",
              "      <td>NaN</td>\n",
              "      <td>NaN</td>\n",
              "      <td>NaN</td>\n",
              "      <td>NaN</td>\n",
              "      <td>NaN</td>\n",
              "      <td>NaN</td>\n",
              "      <td>NaN</td>\n",
              "      <td>NaN</td>\n",
              "      <td>NaN</td>\n",
              "      <td>NaN</td>\n",
              "      <td>NaN</td>\n",
              "      <td>NaN</td>\n",
              "      <td>NaN</td>\n",
              "      <td>NaN</td>\n",
              "      <td>NaN</td>\n",
              "      <td>NaN</td>\n",
              "      <td>NaN</td>\n",
              "      <td>NaN</td>\n",
              "      <td>NaN</td>\n",
              "      <td>NaN</td>\n",
              "      <td>NaN</td>\n",
              "      <td>NaN</td>\n",
              "      <td>NaN</td>\n",
              "      <td>NaN</td>\n",
              "      <td>NaN</td>\n",
              "      <td>NaN</td>\n",
              "      <td>5.56</td>\n",
              "      <td>212559409.0</td>\n",
              "      <td>25.04</td>\n",
              "      <td>33.5</td>\n",
              "      <td>8.552</td>\n",
              "      <td>5.06</td>\n",
              "      <td>14103.452</td>\n",
              "      <td>3.4</td>\n",
              "      <td>177.961</td>\n",
              "      <td>8.11</td>\n",
              "      <td>10.1</td>\n",
              "      <td>17.9</td>\n",
              "      <td>NaN</td>\n",
              "      <td>2.2</td>\n",
              "      <td>75.88</td>\n",
              "      <td>0.765</td>\n",
              "    </tr>\n",
              "    <tr>\n",
              "      <th>2020-02-27</th>\n",
              "      <td>BRA</td>\n",
              "      <td>South America</td>\n",
              "      <td>Brazil</td>\n",
              "      <td>1.0</td>\n",
              "      <td>0.0</td>\n",
              "      <td>NaN</td>\n",
              "      <td>NaN</td>\n",
              "      <td>NaN</td>\n",
              "      <td>NaN</td>\n",
              "      <td>0.005</td>\n",
              "      <td>0.000</td>\n",
              "      <td>NaN</td>\n",
              "      <td>NaN</td>\n",
              "      <td>NaN</td>\n",
              "      <td>NaN</td>\n",
              "      <td>NaN</td>\n",
              "      <td>NaN</td>\n",
              "      <td>NaN</td>\n",
              "      <td>NaN</td>\n",
              "      <td>NaN</td>\n",
              "      <td>NaN</td>\n",
              "      <td>NaN</td>\n",
              "      <td>NaN</td>\n",
              "      <td>NaN</td>\n",
              "      <td>NaN</td>\n",
              "      <td>NaN</td>\n",
              "      <td>NaN</td>\n",
              "      <td>NaN</td>\n",
              "      <td>NaN</td>\n",
              "      <td>NaN</td>\n",
              "      <td>NaN</td>\n",
              "      <td>NaN</td>\n",
              "      <td>NaN</td>\n",
              "      <td>NaN</td>\n",
              "      <td>NaN</td>\n",
              "      <td>NaN</td>\n",
              "      <td>NaN</td>\n",
              "      <td>NaN</td>\n",
              "      <td>NaN</td>\n",
              "      <td>NaN</td>\n",
              "      <td>NaN</td>\n",
              "      <td>NaN</td>\n",
              "      <td>5.56</td>\n",
              "      <td>212559409.0</td>\n",
              "      <td>25.04</td>\n",
              "      <td>33.5</td>\n",
              "      <td>8.552</td>\n",
              "      <td>5.06</td>\n",
              "      <td>14103.452</td>\n",
              "      <td>3.4</td>\n",
              "      <td>177.961</td>\n",
              "      <td>8.11</td>\n",
              "      <td>10.1</td>\n",
              "      <td>17.9</td>\n",
              "      <td>NaN</td>\n",
              "      <td>2.2</td>\n",
              "      <td>75.88</td>\n",
              "      <td>0.765</td>\n",
              "    </tr>\n",
              "    <tr>\n",
              "      <th>2020-02-28</th>\n",
              "      <td>BRA</td>\n",
              "      <td>South America</td>\n",
              "      <td>Brazil</td>\n",
              "      <td>1.0</td>\n",
              "      <td>0.0</td>\n",
              "      <td>NaN</td>\n",
              "      <td>NaN</td>\n",
              "      <td>NaN</td>\n",
              "      <td>NaN</td>\n",
              "      <td>0.005</td>\n",
              "      <td>0.000</td>\n",
              "      <td>NaN</td>\n",
              "      <td>NaN</td>\n",
              "      <td>NaN</td>\n",
              "      <td>NaN</td>\n",
              "      <td>NaN</td>\n",
              "      <td>NaN</td>\n",
              "      <td>NaN</td>\n",
              "      <td>NaN</td>\n",
              "      <td>NaN</td>\n",
              "      <td>NaN</td>\n",
              "      <td>NaN</td>\n",
              "      <td>NaN</td>\n",
              "      <td>NaN</td>\n",
              "      <td>NaN</td>\n",
              "      <td>NaN</td>\n",
              "      <td>NaN</td>\n",
              "      <td>NaN</td>\n",
              "      <td>NaN</td>\n",
              "      <td>NaN</td>\n",
              "      <td>NaN</td>\n",
              "      <td>NaN</td>\n",
              "      <td>NaN</td>\n",
              "      <td>NaN</td>\n",
              "      <td>NaN</td>\n",
              "      <td>NaN</td>\n",
              "      <td>NaN</td>\n",
              "      <td>NaN</td>\n",
              "      <td>NaN</td>\n",
              "      <td>NaN</td>\n",
              "      <td>NaN</td>\n",
              "      <td>NaN</td>\n",
              "      <td>5.56</td>\n",
              "      <td>212559409.0</td>\n",
              "      <td>25.04</td>\n",
              "      <td>33.5</td>\n",
              "      <td>8.552</td>\n",
              "      <td>5.06</td>\n",
              "      <td>14103.452</td>\n",
              "      <td>3.4</td>\n",
              "      <td>177.961</td>\n",
              "      <td>8.11</td>\n",
              "      <td>10.1</td>\n",
              "      <td>17.9</td>\n",
              "      <td>NaN</td>\n",
              "      <td>2.2</td>\n",
              "      <td>75.88</td>\n",
              "      <td>0.765</td>\n",
              "    </tr>\n",
              "    <tr>\n",
              "      <th>2020-02-29</th>\n",
              "      <td>BRA</td>\n",
              "      <td>South America</td>\n",
              "      <td>Brazil</td>\n",
              "      <td>2.0</td>\n",
              "      <td>1.0</td>\n",
              "      <td>NaN</td>\n",
              "      <td>NaN</td>\n",
              "      <td>NaN</td>\n",
              "      <td>NaN</td>\n",
              "      <td>0.009</td>\n",
              "      <td>0.005</td>\n",
              "      <td>NaN</td>\n",
              "      <td>NaN</td>\n",
              "      <td>NaN</td>\n",
              "      <td>NaN</td>\n",
              "      <td>NaN</td>\n",
              "      <td>NaN</td>\n",
              "      <td>NaN</td>\n",
              "      <td>NaN</td>\n",
              "      <td>NaN</td>\n",
              "      <td>NaN</td>\n",
              "      <td>NaN</td>\n",
              "      <td>NaN</td>\n",
              "      <td>NaN</td>\n",
              "      <td>NaN</td>\n",
              "      <td>NaN</td>\n",
              "      <td>NaN</td>\n",
              "      <td>NaN</td>\n",
              "      <td>NaN</td>\n",
              "      <td>NaN</td>\n",
              "      <td>NaN</td>\n",
              "      <td>NaN</td>\n",
              "      <td>NaN</td>\n",
              "      <td>NaN</td>\n",
              "      <td>NaN</td>\n",
              "      <td>NaN</td>\n",
              "      <td>NaN</td>\n",
              "      <td>NaN</td>\n",
              "      <td>NaN</td>\n",
              "      <td>NaN</td>\n",
              "      <td>NaN</td>\n",
              "      <td>NaN</td>\n",
              "      <td>5.56</td>\n",
              "      <td>212559409.0</td>\n",
              "      <td>25.04</td>\n",
              "      <td>33.5</td>\n",
              "      <td>8.552</td>\n",
              "      <td>5.06</td>\n",
              "      <td>14103.452</td>\n",
              "      <td>3.4</td>\n",
              "      <td>177.961</td>\n",
              "      <td>8.11</td>\n",
              "      <td>10.1</td>\n",
              "      <td>17.9</td>\n",
              "      <td>NaN</td>\n",
              "      <td>2.2</td>\n",
              "      <td>75.88</td>\n",
              "      <td>0.765</td>\n",
              "    </tr>\n",
              "    <tr>\n",
              "      <th>2020-03-01</th>\n",
              "      <td>BRA</td>\n",
              "      <td>South America</td>\n",
              "      <td>Brazil</td>\n",
              "      <td>2.0</td>\n",
              "      <td>0.0</td>\n",
              "      <td>NaN</td>\n",
              "      <td>NaN</td>\n",
              "      <td>NaN</td>\n",
              "      <td>NaN</td>\n",
              "      <td>0.009</td>\n",
              "      <td>0.000</td>\n",
              "      <td>NaN</td>\n",
              "      <td>NaN</td>\n",
              "      <td>NaN</td>\n",
              "      <td>NaN</td>\n",
              "      <td>NaN</td>\n",
              "      <td>NaN</td>\n",
              "      <td>NaN</td>\n",
              "      <td>NaN</td>\n",
              "      <td>NaN</td>\n",
              "      <td>NaN</td>\n",
              "      <td>NaN</td>\n",
              "      <td>NaN</td>\n",
              "      <td>NaN</td>\n",
              "      <td>NaN</td>\n",
              "      <td>NaN</td>\n",
              "      <td>NaN</td>\n",
              "      <td>NaN</td>\n",
              "      <td>NaN</td>\n",
              "      <td>NaN</td>\n",
              "      <td>NaN</td>\n",
              "      <td>NaN</td>\n",
              "      <td>NaN</td>\n",
              "      <td>NaN</td>\n",
              "      <td>NaN</td>\n",
              "      <td>NaN</td>\n",
              "      <td>NaN</td>\n",
              "      <td>NaN</td>\n",
              "      <td>NaN</td>\n",
              "      <td>NaN</td>\n",
              "      <td>NaN</td>\n",
              "      <td>NaN</td>\n",
              "      <td>5.56</td>\n",
              "      <td>212559409.0</td>\n",
              "      <td>25.04</td>\n",
              "      <td>33.5</td>\n",
              "      <td>8.552</td>\n",
              "      <td>5.06</td>\n",
              "      <td>14103.452</td>\n",
              "      <td>3.4</td>\n",
              "      <td>177.961</td>\n",
              "      <td>8.11</td>\n",
              "      <td>10.1</td>\n",
              "      <td>17.9</td>\n",
              "      <td>NaN</td>\n",
              "      <td>2.2</td>\n",
              "      <td>75.88</td>\n",
              "      <td>0.765</td>\n",
              "    </tr>\n",
              "  </tbody>\n",
              "</table>\n",
              "</div>"
            ],
            "text/plain": [
              "           iso_code      continent  ... life_expectancy  human_development_index\n",
              "date                                ...                                         \n",
              "2020-02-26      BRA  South America  ...           75.88                    0.765\n",
              "2020-02-27      BRA  South America  ...           75.88                    0.765\n",
              "2020-02-28      BRA  South America  ...           75.88                    0.765\n",
              "2020-02-29      BRA  South America  ...           75.88                    0.765\n",
              "2020-03-01      BRA  South America  ...           75.88                    0.765\n",
              "\n",
              "[5 rows x 58 columns]"
            ]
          },
          "metadata": {
            "tags": []
          },
          "execution_count": 136
        }
      ]
    },
    {
      "cell_type": "markdown",
      "metadata": {
        "id": "V67f2muXftxa"
      },
      "source": [
        "Agora que ja temos nossa tabela apenas com dados do Brasil, vamos verificar quando foi confirmado o primeiro caso no Brasil."
      ]
    },
    {
      "cell_type": "code",
      "metadata": {
        "colab": {
          "base_uri": "https://localhost:8080/",
          "height": 111
        },
        "id": "Zu_bPEzNV-0b",
        "outputId": "8048043b-8245-40bf-aa51-3a0b0c323112"
      },
      "source": [
        "primeiro_caso = df_brasil.loc[df_brasil['total_cases'] == 1, ['total_cases']].sort_values(by='date').head(1)\n",
        "primeiro_caso"
      ],
      "execution_count": 137,
      "outputs": [
        {
          "output_type": "execute_result",
          "data": {
            "text/html": [
              "<div>\n",
              "<style scoped>\n",
              "    .dataframe tbody tr th:only-of-type {\n",
              "        vertical-align: middle;\n",
              "    }\n",
              "\n",
              "    .dataframe tbody tr th {\n",
              "        vertical-align: top;\n",
              "    }\n",
              "\n",
              "    .dataframe thead th {\n",
              "        text-align: right;\n",
              "    }\n",
              "</style>\n",
              "<table border=\"1\" class=\"dataframe\">\n",
              "  <thead>\n",
              "    <tr style=\"text-align: right;\">\n",
              "      <th></th>\n",
              "      <th>total_cases</th>\n",
              "    </tr>\n",
              "    <tr>\n",
              "      <th>date</th>\n",
              "      <th></th>\n",
              "    </tr>\n",
              "  </thead>\n",
              "  <tbody>\n",
              "    <tr>\n",
              "      <th>2020-02-26</th>\n",
              "      <td>1.0</td>\n",
              "    </tr>\n",
              "  </tbody>\n",
              "</table>\n",
              "</div>"
            ],
            "text/plain": [
              "            total_cases\n",
              "date                   \n",
              "2020-02-26          1.0"
            ]
          },
          "metadata": {
            "tags": []
          },
          "execution_count": 137
        }
      ]
    },
    {
      "cell_type": "markdown",
      "metadata": {
        "id": "Rz9eeVxof28l"
      },
      "source": [
        "Agora iremos verificar a primeira morte confirmada no Brasil."
      ]
    },
    {
      "cell_type": "code",
      "metadata": {
        "colab": {
          "base_uri": "https://localhost:8080/",
          "height": 111
        },
        "id": "s4XpYt6-W1xy",
        "outputId": "e56fd7f1-b4a0-4aa3-c9c3-37d694d15f41"
      },
      "source": [
        "primeira_morte = df_brasil.loc[df_brasil['total_deaths'] == 1, ['total_deaths']].sort_values(by='date').head(1)\n",
        "primeira_morte"
      ],
      "execution_count": 138,
      "outputs": [
        {
          "output_type": "execute_result",
          "data": {
            "text/html": [
              "<div>\n",
              "<style scoped>\n",
              "    .dataframe tbody tr th:only-of-type {\n",
              "        vertical-align: middle;\n",
              "    }\n",
              "\n",
              "    .dataframe tbody tr th {\n",
              "        vertical-align: top;\n",
              "    }\n",
              "\n",
              "    .dataframe thead th {\n",
              "        text-align: right;\n",
              "    }\n",
              "</style>\n",
              "<table border=\"1\" class=\"dataframe\">\n",
              "  <thead>\n",
              "    <tr style=\"text-align: right;\">\n",
              "      <th></th>\n",
              "      <th>total_deaths</th>\n",
              "    </tr>\n",
              "    <tr>\n",
              "      <th>date</th>\n",
              "      <th></th>\n",
              "    </tr>\n",
              "  </thead>\n",
              "  <tbody>\n",
              "    <tr>\n",
              "      <th>2020-03-17</th>\n",
              "      <td>1.0</td>\n",
              "    </tr>\n",
              "  </tbody>\n",
              "</table>\n",
              "</div>"
            ],
            "text/plain": [
              "            total_deaths\n",
              "date                    \n",
              "2020-03-17           1.0"
            ]
          },
          "metadata": {
            "tags": []
          },
          "execution_count": 138
        }
      ]
    },
    {
      "cell_type": "markdown",
      "metadata": {
        "id": "zoyWO4S4f7RX"
      },
      "source": [
        "Agora que já sabemos que a primeira morte aconceteu após 21 de dias desde a primeira confirmação, vejamos como está se comportando os números de COVID-19 no Brasil."
      ]
    },
    {
      "cell_type": "code",
      "metadata": {
        "colab": {
          "base_uri": "https://localhost:8080/",
          "height": 509
        },
        "id": "HILYLhfzXWOB",
        "outputId": "581361dd-c8df-4f84-e372-b69c3fc2bb4b"
      },
      "source": [
        "# figura matplotlib\n",
        "fig, ax = plt.subplots(nrows=1, ncols=2, figsize=(17, 7))\n",
        "\n",
        "# escala linear\n",
        "ax[0].plot('total_deaths', data=df_brasil)\n",
        "ax[0].plot('total_cases', data=df_brasil)\n",
        "ax[0].set_title('Evolução COVID-19 no Brasil - Escala Linear', fontsize=14)\n",
        "ax[0].set_xlabel('Data')\n",
        "ax[0].set_ylabel('Número de casos')\n",
        "ax[0].legend()\n",
        "\n",
        "# escala logaritmica\n",
        "plt.yscale('log')\n",
        "ax[1].plot('total_deaths', data=df_brasil)\n",
        "ax[1].plot('total_cases', data=df_brasil)\n",
        "ax[1].set_title('Evolução COVID-19 no Brasil - Escala Logaritmica', fontsize=14)\n",
        "ax[1].set_xlabel('Data')\n",
        "ax[1].legend()\n",
        "\n",
        "plt.tight_layout()\n",
        "plt.savefig('graph5.png')"
      ],
      "execution_count": 139,
      "outputs": [
        {
          "output_type": "display_data",
          "data": {
            "image/png": "[encoded data removed]",
            "text/plain": [
              "<Figure size 1224x504 with 2 Axes>"
            ]
          },
          "metadata": {
            "tags": []
          }
        }
      ]
    },
    {
      "cell_type": "markdown",
      "metadata": {
        "id": "iPKaPKcyel-w"
      },
      "source": [
        "## Conclusão\n",
        "\n",
        "Após esta analise de dados já conseguimos ter vários insights e ter um panorama geral do que está acontecendo no Brasil em relação ao mundo, então irei destacar alguns pontos importantes que conseguimos indentificar com esta analise exploratória.\n",
        "\n",
        "* Top 5 países com casos confirmados de COVID-19(em ordem decrescente): Estados Unidos, Índia, Brasil, França e Turquia.\n",
        "* Top 5 países com mortes causadas pela COVID-19(em ordem decrescente): Estados Unidos, Brasil, Índia, México e Reino Unido.\n",
        "* Brasil (211 milhões de habitantes) x Índia (1.366 bilhões de habitantes): Mesmo o Brasil tendo quase 1/7 da população da Índia, o Brasil ainda ultrapassa a Índia em questão de mortes causadas pelo COVID-19.\n",
        "* Países que adotaram medidas de distanciamento social ou já estão vacinando a população entrou em um cenário de controle em relação as mortes causadas pela COVID-19.\n",
        "* A primeira morte no Brasil ocorreu 21 dias após a confirmação do vírus em  território nacional.\n",
        "* Conseguimos identificar que o Brasil não está nem perto de um cenário controlado."
      ]
    }
  ]
}
